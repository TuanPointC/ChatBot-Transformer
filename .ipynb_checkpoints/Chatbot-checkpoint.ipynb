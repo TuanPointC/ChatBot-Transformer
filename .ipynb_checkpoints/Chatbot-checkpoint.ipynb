{
 "cells": [
  {
   "cell_type": "code",
   "execution_count": 2,
   "id": "36c295a5",
   "metadata": {},
   "outputs": [
    {
     "name": "stdout",
     "output_type": "stream",
     "text": [
      "['thích đánh lộn không', 'solo yasuo không', 'mai đi picnic không', 'mai học ca mấy vậy', 'còn tiền không', 'mấy giờ rồi nhỉ', 'bao lâu rồi chưa về quê', 'bạn có crush chưa', 'crush bao lâu rồi', 'crush có bồ chưa']\n",
      "['ngon nhào vô', 'chấp lun 2 mạng đầu', 'mai bận học rồi', 'mai học ca 3', 'còn chết liền', '1100 rồi', '1 tháng rồi', 'mình có rồi', 'khoảng 10 năm', 'có rồi huhu']\n"
     ]
    }
   ],
   "source": [
    "#Load data\n",
    "# Sentence Segmentation\n",
    "import os\n",
    "import re\n",
    "import json\n",
    "path = 'Data'\n",
    "files = os.listdir(path)\n",
    "questions = []\n",
    "answers = []\n",
    "for f in files:\n",
    "    myfile = open(\"Data/\"+f, \"r\",encoding=\"utf8\")\n",
    "    for line in myfile.readlines():\n",
    "        content = line.split('__eou__')\n",
    "        text = re.sub(r\"[-()\\\"#/@;:<>{}`+=~|.!?,]\", \"\", content[0].strip().lower())\n",
    "        questions.append(text)\n",
    "        text = re.sub(r\"[-()\\\"#/@;:<>{}`+=~|.!?,]\", \"\", content[1].strip().lower())\n",
    "        answers.append(text)\n",
    "    myfile.close() \n",
    "print(questions[:10])\n",
    "print(answers[:10])"
   ]
  },
  {
   "cell_type": "code",
   "execution_count": 3,
   "id": "48f03b79",
   "metadata": {},
   "outputs": [
    {
     "name": "stdout",
     "output_type": "stream",
     "text": [
      "[['thích', 'đánh', 'lộn', 'không'], ['solo', 'yasuo', 'không'], ['mai', 'đi', 'picnic', 'không'], ['mai', 'học', 'ca', 'mấy', 'vậy'], ['còn', 'tiền', 'không'], ['mấy', 'giờ', 'rồi', 'nhỉ'], ['bao', 'lâu', 'rồi', 'chưa', 'về', 'quê'], ['bạn', 'có', 'crush', 'chưa'], ['crush', 'bao', 'lâu', 'rồi'], ['crush', 'có', 'bồ', 'chưa']]\n",
      "[['ngon', 'nhào', 'vô'], ['chấp', 'lun', '2', 'mạng', 'đầu'], ['mai', 'bận', 'học', 'rồi'], ['mai', 'học', 'ca', '3'], ['còn', 'chết', 'liền'], ['1100', 'rồi'], ['1', 'tháng', 'rồi'], ['mình', 'có', 'rồi'], ['khoảng', '10', 'năm'], ['có', 'rồi', 'huhu']]\n"
     ]
    }
   ],
   "source": [
    "#Word Segmentation\n",
    "import re\n",
    "questionsSegments = []\n",
    "answerSegments = []\n",
    "for q in questions:\n",
    "    segmentation = q.split(\" \")\n",
    "    questionsSegments.append(segmentation)\n",
    "for a in answers:\n",
    "    segmentation = a.split(\" \")\n",
    "    answerSegments.append(segmentation)\n",
    "\n",
    "print(questionsSegments[:10])\n",
    "print(answerSegments[:10])"
   ]
  },
  {
   "cell_type": "code",
   "execution_count": 4,
   "id": "c24ea9bb",
   "metadata": {},
   "outputs": [
    {
     "name": "stdout",
     "output_type": "stream",
     "text": [
      "5855\n",
      "5855\n"
     ]
    }
   ],
   "source": [
    "print(len(questionsSegments))\n",
    "print(len(questions))"
   ]
  },
  {
   "cell_type": "code",
   "execution_count": 5,
   "id": "bc1bba68",
   "metadata": {},
   "outputs": [
    {
     "name": "stdout",
     "output_type": "stream",
     "text": [
      "Counter({'bạn': 5029, 'mình': 3602, 'có': 3145, 'không': 2615, '': 1577, 'ở': 1566, 'đi': 1554, 'là': 1390, 'gì': 1267, 'học': 970, 'nào': 966, 'thích': 877, 'của': 843, 'người': 823, 'làm': 817, 'cho': 758, 'đang': 704, 'vậy': 700, 'với': 674, 'đâu': 670, 'hay': 637, 'bao': 605, 'được': 593, 'rồi': 574, 'cậu': 565, 'nhà': 555, 'chơi': 554, 'trường': 553, 'thế': 539, 'yêu': 531, 'quê': 519, 'thì': 511, 'ăn': 505, 'chưa': 490, 'hỏi': 487, 'em': 486, 'nhiêu': 474, 'và': 455, 'này': 450, 'tớ': 445, 'thể': 416, 'về': 411, 'cũng': 400, 'đó': 384, 'sinh': 369, 'như': 363, 'năm': 361, 'phim': 353, 'tại': 351, 'thường': 345, 'biết': 340, 'tên': 335, 'mày': 333, 'công': 333, 'muốn': 332, 'một': 315, 'xem': 310, 'mua': 308, 'ạ': 308, 'tao': 291, 'còn': 288, 'việc': 288, 'để': 283, 'hiện': 283, 'nhiều': 282, 'rất': 275, 'lắm': 270, 'nha': 269, 'khi': 267, 'anh': 267, 'sao': 262, 'trong': 256, 'gia': 251, 'mà': 250, 'sẽ': 245, 'nhé': 237, 'tết': 237, 'tính': 231, 'vào': 227, 'nên': 222, 'ai': 221, 'viên': 219, 'nhất': 219, 'thấy': 216, 'tuổi': 207, 'tôi': 206, 'nay': 204, 'các': 204, 'đình': 204, 'ra': 202, 'mấy': 197, 'những': 197, 'chị': 197, 'con': 193, 'ngành': 192, '1': 187, 'chứ': 187, 'đã': 179, 'cao': 176, 'giờ': 173, 'ngày': 172, 'phải': 171, 'sống': 171, 'ơi': 170, 'du': 168, 'hàng': 165, 'lịch': 163, 'nữa': 162, 'à': 161, '2': 160, 'bè': 160, 'mới': 160, 'thành': 159, 'thôi': 157, 'tình': 157, 'á': 157, 'nhưng': 155, 'giá': 155, 'đến': 154, 'máy': 154, 'đây': 152, 'cùng': 148, 'nghĩ': 148, 'cái': 147, 'chung': 146, 'chỉ': 145, 'ông': 145, 'tiền': 143, 'bên': 142, 'game': 142, 'điện': 141, 'định': 140, 'thân': 140, 'quận': 137, 'đại': 136, 'nhau': 135, 'vui': 135, 'quan': 135, 'ok': 135, 'từ': 135, 'tốt': 135, 'luôn': 135, 'môn': 135, 'rảnh': 131, 'nếu': 131, '3': 129, 'lúc': 129, 'ấy': 129, 'nghe': 129, 'gần': 129, 'áo': 129, 'lâu': 128, 'tui': 128, 'cảm': 128, 'tin': 128, 'chỗ': 127, 'mẹ': 126, 'nghề': 126, 'thông': 122, 'nước': 122, 'theo': 122, 'hơn': 120, 'tháng': 118, 'loại': 118, 'phòng': 116, 'crush': 114, 'cả': 111, 'trên': 110, 'nói': 110, 'đồng': 110, 'trọ': 110, 'minh': 109, 'đẹp': 109, 'thoại': 108, 'shop': 107, 'gái': 106, 'nam': 106, 'ngoài': 103, 'số': 103, 'lại': 102, 'chắc': 102, 'thao': 100, 'điểm': 99, 'sản': 99, 'nơi': 98, 'bình': 98, 'đúng': 98, 'lên': 97, 'phố': 97, 'thắng': 95, 'tôn': 93, 'ba': 93, 'nó': 92, 'đức': 92, 'qua': 90, 'vì': 90, 'bị': 90, 'hôm': 89, 'thời': 89, 'động': 89, 'xe': 88, 'khoa': 88, 'nghiệp': 88, 'khoảng': 87, 'đặc': 87, 'thêm': 87, 'khá': 87, 'ta': 87, 'nhỉ': 86, 'tuần': 86, 'cần': 85, 'quá': 85, '7': 84, 'dịp': 84, 'quán': 84, 'tập': 84, 'hình': 83, 'nghỉ': 82, 'bằng': 82, 'sở': 81, '4': 81, 'khác': 80, 'nhạc': 79, 'đà': 79, 'mai': 78, 'ổn': 77, 'cách': 77, 'bố': 77, 'đấy': 76, 'nè': 76, 'thuê': 76, 'tối': 75, 'hoặc': 75, 'nhiên': 75, 'ty': 75, 'tâm': 74, 'sau': 74, 'hồ': 74, 'triệu': 74, 'cô': 73, 'trung': 73, 'phí': 73, 'nghệ': 72, 'trình': 72, 'nặng': 72, 'hết': 71, 'tới': 70, 'nhân': 70, 'mỗi': 69, 'đường': 69, 'dự': 69, 'món': 69, 'họ': 69, 'tiếng': 69, 'dạ': 69, 'gian': 68, 'lạt': 68, 'thứ': 68, 'đủ': 68, 'xin': 68, 'quần': 68, 'quen': 67, 'mẫu': 67, 'sách': 67, 'rãnh': 67, 'đồ': 67, 'chúng': 66, 'tầm': 66, 'cuối': 66, '5': 65, 'xa': 65, 'chi': 64, 'ngon': 63, 'bán': 63, 'trang': 63, 'trước': 62, 'đọc': 61, 'coi': 61, 'hệ': 61, 'an': 61, 'hợp': 61, 'dễ': 60, 'bộ': 60, 'địa': 60, 'lương': 60, 'chọn': 59, 'bạn': 59, 'giới': 58, 'cầu': 58, 'mọi': 57, 'chủ': 57, 'robot': 57, 'trai': 56, 'chuyện': 56, 'hành': 56, 'thử': 56, 'việt': 56, 'bảo': 55, 'uống': 54, 'có': 54, 'nhớ': 54, 'vẫn': 54, 'tìm': 53, 'vài': 53, 'ý': 53, 'sài': 53, 'lần': 53, 'hai': 52, 'chất': 52, 'chính': 51, 'tự': 51, 'khó': 51, 'rủ': 51, 'chí': 51, 'laptop': 51, 'đầu': 50, 'sự': 50, 'lan': 50, 'mặc': 50, 'dạo': 49, 'gặp': 49, 'nổi': 49, 'chào': 49, 'biệt': 48, 'lễ': 48, 'mình': 48, 'đất': 48, '20': 48, 'nguyễn': 48, 'size': 48, 'mặt': 47, 'do': 47, 'cơ': 47, 'lý': 47, 'tất': 47, 'kinh': 47, 'nội': 47, 'cơm': 47, 'thương': 46, 'gòn': 46, 'đá': 45, 'từng': 45, 'chuyên': 45, 'giúp': 45, 'quốc': 45, 'lớp': 44, 'tùy': 44, 'bóng': 44, 'dịch': 44, 'ít': 43, 'xinh': 43, 'ngủ': 43, 'tụi': 43, 'lớn': 43, 'dụng': 43, 'tiện': 43, 'nhỏ': 42, 'hãng': 42, 'hơi': 41, 'xong': 41, 'tham': 41, 'điều': 40, 'tương': 40, 'bản': 40, 'bài': 39, 'thư': 39, 'giải': 39, 'tạo': 39, 'hả': 39, 'liên': 39, 'vừa': 39, 'hùng': 39, 'bơi': 38, 'hẹn': 38, 'văn': 38, 'kì': 38, 'thầy': 38, 'tàu': 38, 'cửa': 38, 'thật': 37, 'long': 37, 'đều': 37, 'lập': 37, 'ký': 37, 'trời': 37, 'vé': 37, '6': 37, 'đặt': 37, 'xuyên': 36, 'bánh': 36, 'màu': 36, 'hè': 35, 'dẫn': 35, 'đôi': 35, 'chuẩn': 35, 'lời': 35, 'nhận': 35, '12': 35, 'lực': 35, 'toán': 35, 'khu': 35, 'giỏi': 34, 'sắp': 34, 'dài': 34, 'thanh': 34, 'chuyển': 34, 'vũng': 34, 'gồm': 34, 'ca': 33, 'thiết': 33, 'kí': 33, 'tư': 33, 'chương': 33, '10': 32, 'mối': 32, 'câu': 32, 'biển': 32, 'lượng': 32, 'thuộc': 32, 'xá': 32, 'bồ': 31, 'đối': 31, 'buồn': 31, 'mét': 31, 'cấp': 31, 'mất': 31, 'hoạt': 31, 'mái': 31, 'ừ': 31, 'thực': 31, 'vật': 31, 'cộng': 30, 'viện': 30, 'ơn': 30, 'năng': 30, 'liệu': 30, 'kiếm': 30, 'vấn': 30, 'tỉnh': 30, 'trả': 30, 'rộng': 30, 'chiều': 30, 'thị': 30, 'túc': 30, 'chia': 29, 'cà': 29, 'lai': 29, 'hội': 29, 'thoải': 29, 'dùng': 29, 'tín': 29, 'ninh': 29, 'ở': 29, 'dòng': 29, 'cậu': 28, 'tay': 28, 'giao': 28, 'hà': 28, 'thiện': 28, 'tiêu': 28, 'độ': 28, 'thống': 28, 'phục': 28, 'tổng': 28, 'tdtu': 28, 'kế': 27, 'nhật': 27, 'tiếp': 27, 'trí': 27, 'ngoại': 27, 'bây': 27, 'nhóm': 27, 'bà': 27, 'riêng': 27, 'tân': 27, '21': 27, 'rạp': 26, 'ê': 26, 'hiểu': 26, 'đời': 26, 'đứa': 26, 'hướng': 26, 'trà': 26, 'rẻ': 26, 'dân': 26, 'khách': 26, 'vụ': 26, 'vô': 25, 'nữ': 25, 'áp': 25, 'thuật': 25, 'đông': 25, 'tiết': 25, 'phẩm': 25, 'xài': 25, 'sử': 25, 'tòa': 25, 'bận': 24, 'gì': 24, 'chán': 24, 'vẻ': 24, 'chạy': 24, 'thú': 24, 'tế': 24, 'nấu': 24, 'bọn': 24, 'cây': 24, 'đơn': 24, 'gà': 24, 'm': 24, 'giang': 24, 'thăm': 24, 'căn': 24, 'rỗi': 23, 'toàn': 23, 'phần': 23, '11': 23, 'ngôn': 23, 'trái': 23, 'mãi': 23, 'vị': 23, 'giảm': 23, 'giày': 23, 'cứ': 22, 'sắm': 22, 'cá': 22, 't': 22, 'độc': 22, 'ứng': 22, 'lỗi': 22, 'giáo': 22, 'chức': 22, 'hòa': 22, 'miền': 22, 'tây': 22, 'gửi': 22, 'dưới': 22, 'ngữ': 22, 'đầy': 22, 'cảnh': 22, '22': 22, 'cân': 22, '2000': 22, 'đêm': 21, 'trị': 21, 'trạng': 21, 'đăng': 21, 'hương': 21, 'thức': 21, 'mở': 21, 'lẩu': 21, 'cực': 21, 'tổ': 21, 'dành': 21, 'phong': 21, 'dạy': 21, 'iphone': 21, 'dị': 21, 'trợ': 21, 'okay': 21, 'shopee': 21, 'ship': 21, 'mạng': 20, 'sáng': 20, 'buổi': 20, 'sợ': 20, 'người': 20, 'khỏe': 20, 'kết': 20, 'bàn': 20, 'đổi': 20, 'bắt': 20, 'mắc': 20, 'sữa': 20, 'cgv': 20, 'kia': 20, 'phát': 20, 'sĩ': 20, 'lòng': 20, 'cuộc': 20, 'cũ': 20, 'hóa': 20, 'chợ': 20, 'đào': 20, '2001': 20, 'phúc': 19, 'tặng': 19, 'đen': 19, 'đương': 19, 'tận': 19, 'truyền': 19, 'lạc': 19, 'phạm': 19, 'chiếc': 19, 'kỹ': 19, 'mỹ': 19, 'này': 19, 'tài': 19, 'trở': 19, 'online': 19, 'đắt': 19, 'hiệu': 19, 'giảng': 19, 'ế': 18, 'trưa': 18, 'phê': 18, 'thoảng': 18, 'kiểu': 18, 'tử': 18, 'mang': 18, 'trọng': 18, 'xanh': 18, 'lấy': 18, 'hồi': 18, 'hãy': 18, 'doanh': 18, 'siêu': 18, 'di': 18, 'sớm': 18, 'hát': 18, 'hải': 18, 'khuyến': 18, 'asus': 18, 'hạnh': 17, 'ngồi': 17, 'tỏ': 17, 'thỉnh': 17, 'nhiệt': 17, 'mạnh': 17, 'gu': 17, 'oke': 17, 'gọi': 17, '15': 17, '8': 17, 'thiệu': 17, 'ừm': 17, 'rõ': 17, 'lợi': 17, 'ban': 17, 'bất': 17, 'phân': 17, 'vùng': 17, 'mùng': 17, 'ha': 17, 'tphcm': 17, 'nằm': 17, 'quy': 17, 'sếp': 17, 'đánh': 16, 'nhắn': 16, 'sẻ': 16, 'banh': 16, 'là': 16, 'chút': 16, 'cụ': 16, 'đề': 16, 'thi': 16, 'net': 16, 'châu': 16, 'báo': 16, 'mơ': 16, 'nhìn': 16, 'phương': 16, 'hài': 16, 'đáng': 16, 'của': 16, 'uy': 16, 'môi': 16, 'bay': 16, '30': 16, 'xếp': 16, 'nhu': 16, 'vậy': 16, 'đón': 16, 'quảng': 16, 'danh': 16, 'google': 16, 'bò': 16, 'hỗ': 16, 'cấu': 16, 'giác': 15, 'kể': 15, 'chiếu': 15, 'thích': 15, 'khí': 15, 'tưởng': 15, 'yếu': 15, 'tiến': 15, 'đấu': 15, 'mê': 15, 'vực': 15, 'quanh': 15, 'tuyệt': 15, 'đỡ': 15, 'đạt': 15, 'tí': 15, 'ngu': 15, 'chú': 15, 'tích': 15, 'mong': 15, 'âm': 15, 'sang': 15, 'bé': 15, 'bắc': 15, 'dương': 15, 'quang': 15, 'trắng': 15, 'bún': 15, 'fpt': 15, 'mềm': 15, 'lì': 15, 'xì': 15, 'cung': 15, 'samsung': 15, 'giàu': 14, 'quà': 14, 'làm': 14, 'thuyết': 14, 'yên': 14, 'hiền': 14, 'the': 14, 'tượng': 14, 'mệt': 14, 'phút': 14, 'huyền': 14, 'quả': 14, 'dữ': 14, 'chắn': 14, 'vệ': 14, 'kỳ': 14, 'bệnh': 14, 'kiến': 14, 'khỏi': 14, 'đo': 14, 'mục': 14, 'bến': 14, 'thuận': 14, 'lê': 14, '50': 14, 'hihi': 14, 'rớt': 14, 'lông': 14, 'hò': 13, 'facebook': 13, 'hoa': 13, 'giữ': 13, 'cafe': 13, 'được': 13, 'mượn': 13, 'thất': 13, 'luyện': 13, 'thay': 13, 'phụ': 13, 'trải': 13, 'mát': 13, 'khiến': 13, 'dục': 13, 'đam': 13, 'trông': 13, 'tấm': 13, 'nướng': 13, 'quản': 13, 'nhập': 13, 'vâng': 13, 'sạch': 13, 'okie': 13, 'thu': 13, 'núi': 13, 'chuyến': 13, 'lạnh': 13, 'o': 13, 'rồi': 13, 'hoàng': 13, 'dọn': 13, 'mức': 13, 'xuất': 13, 'ă': 13, 'mật': 13, 'ktx': 13, 'may': 12, 'đợi': 12, 'chở': 12, 'nào': 12, 'phượt': 12, 'cải': 12, 'chịu': 12, 'ước': 12, 'vòng': 12, 'giữa': 12, 'lao': 12, 'hôn': 12, 'xúc': 12, 'ghét': 12, 'miễn': 12, 'rổ': 12, 'tăng': 12, 'tiên': 12, 'thằng': 12, 'thiên': 12, 'hạ': 12, 'đoán': 12, 'nhậu': 12, 'ổng': 12, 'thủ': 12, 'web': 12, '9': 12, 'tắm': 12, 'mùa': 12, 'khong': 12, 'la': 12, 'đóng': 12, 'hữu': 12, 'học': 12, 'it': 12, 'pizza': 12, '1999': 12, 'huế': 12, 'ghép': 12, 'cưới': 11, 'truyện': 11, 'đem': 11, 'thuốc': 11, 'bữa': 11, 'một': 11, 'giống': 11, 'cuốn': 11, 'hoạch': 11, 'lo': 11, 'quên': 11, 'đừng': 11, 'phường': 11, 'trò': 11, 'hứng': 11, 'kiện': 11, 'đáp': 11, 'tiệm': 11, 'trừ': 11, 'ưa': 11, 'cờ': 11, 'mắt': 11, 'thẳng': 11, 'nhanh': 11, 'xét': 11, 'cua': 11, 'quân': 11, 'dĩ': 11, 'xuân': 11, 'mập': 11, 'khùng': 11, 'đa': 11, 'ma': 11, 'đội': 11, 'xíu': 11, 'dù': 11, 'ồ': 11, 'vuông': 11, 'cắm': 11, 'ví': 11, 'nẵng': 11, 'kèo': 11, 'phan': 11, 'haha': 11, 'khoản': 11, 'tp': 11, 'ốc': 11, 'hiếu': 11, 'đậu': 11, 'tre': 11, 'ngay': 11, 'hcm': 11, 'chúc': 11, '16': 11, 'no': 11, 'càng': 11, 'nghìn': 11, 'sơ': 11, 'tuyển': 11, 'ghé': 11, 'ram': 11, 'váy': 11, 'nai': 11, 'vận': 10, 'chả': 10, 'chối': 10, 'nghiệm': 10, 'rap': 10, 'chân': 10, 'bật': 10, 'nguyên': 10, 'cntt': 10, 'nắng': 10, 'ngọt': 10, 'ảnh': 10, 'rèn': 10, 'thiếu': 10, 'sức': 10, 'mau': 10, 'vũ': 10, 'nghĩa': 10, 'kẹt': 10, 'đợt': 10, 'chế': 10, '2021': 10, 'oh': 10, 'tim': 10, '18': 10, 'lotte': 10, 'thẻ': 10, 'đạo': 10, '19': 10, 'thọ': 10, 'a': 10, 'covid': 10, 'nhà': 10, 'xl': 10, 'sale': 10, 'cư': 10, 'thèm': 10, 'k': 9, 'mưa': 9, 'tớ': 9, 'biết': 9, 'tĩnh': 9, 'mèo': 9, 'ủa': 9, 'nhá': 9, 'cạnh': 9, 'coffee': 9, '23': 9, 'chờ': 9, 'đói': 9, 'tệ': 9, 'lĩnh': 9, 'củ': 9, 'sẵn': 9, 'thưởng': 9, 'khăn': 9, 'vân': 9, 'quý': 9, 'nhất': 9, 'tùng': 9, 'sai': 9, 'ô': 9, 'triển': 9, 'trống': 9, 'trãi': 9, 'trận': 9, 'vời': 9, 'chụp': 9, 'dau': 9, '25': 9, 'phải': 9, 'cố': 9, 'gò': 9, 'sư': 9, 'đình': 9, 'má': 9, 'nãy': 9, 'hộp': 9, 'tạm': 9, 'lầu': 9, 'khóa': 9, 'ừa': 9, 'sân': 9, '100': 9, 'thể': 9, 'vịt': 9, 'giặt': 9, 'thun': 9, '1m7': 9, 'msi': 9, 'dell': 9, 'ích': 9, 'trần': 9, 'với': 8, 'nghĩ': 8, 'lành': 8, 'bỏ': 8, 'lí': 8, 'bạc': 8, 'khảo': 8, 'thái': 8, 'lẻ': 8, 'tinh': 8, 'thơ': 8, 'rau': 8, 'lận': 8, 'deadline': 8, 'nhẹ': 8, 'xắn': 8, 'tốn': 8, 'đoạn': 8, 'xuống': 8, 'rưỡi': 8, 'hề': 8, 'xung': 8, 'điên': 8, 'khả': 8, 'bởi': 8, 'code': 8, 'kê': 8, 'cường': 8, 'đổ': 8, 'duyên': 8, 'thang': 8, 'sa': 8, 'khổ': 8, 'dư': 8, 'diễn': 8, 'chớ': 8, 'dụ': 8, 'sơn': 8, 'ngân': 8, 'chùa': 8, 'tháp': 8, 'noi': 8, 'nghi': 8, 'hấp': 8, 'đến': 8, 'mắm': 8, 'mì': 8, '40': 8, 'cầm': 8, 'suất': 8, 'đảm': 8, 'hoà': 8, 'tdt': 8, 'khai': 8, 'bí': 8, 'đô': 8, 'duy': 8, 'phép': 8, 'vải': 8, 'sạc': 8, 'l': 8, 'trường': 8, 'dao': 8, 'phở': 8, 'clb': 8, 'liền': 7, 'huhu': 7, 'rảnh': 7, 'thường': 7, 'đó': 7, 'thế': 7, 'pháp': 7, 'phận': 7, 'quyết': 7, 'ấn': 7, 'lẽ': 7, 'tươi': 7, 'hoài': 7, 'hưởng': 7, 'xử': 7, 'mời': 7, 'vặt': 7, 'đưa': 7, 'hào': 7, 'house': 7, 'ngại': 7, 'giận': 7, 'bụng': 7, 'phù': 7, 'xây': 7, 'dậy': 7, 'song': 7, 'tranh': 7, '13': 7, 'city': 7, 'chừng': 7, 'co': 7, 'thấp': 7, 'ốm': 7, 'đám': 7, 'ràng': 7, 'ghê': 7, 'gầy': 7, 'hông': 7, 'chai': 7, 'chim': 7, 'đau': 7, 'of': 7, 'bảy': 7, 'lựa': 7, 'bot': 7, 'chẳng': 7, 'hi': 7, 'vọng': 7, 'tác': 7, 'sừng': 7, 'tả': 7, 'dung': 7, 'nóng': 7, 'dắt': 7, 'vịnh': 7, 'mày': 7, 'km': 7, 'xác': 7, 'rượu': 7, 'dừa': 7, 'gốc': 7, 'tiếu': 7, 'ngọc': 7, 'giám': 7, 'cháu': 7, 'bổng': 7, 'gay': 7, 'lười': 7, 'diện': 7, 'mall': 7, 'lưu': 7, 'tra': 7, 'đh': 7, 'dược': 7, 'tầng': 7, 'nhánh': 7, 'hiện': 7, 'tại': 7, 'án': 7, 'macbook': 7, 'ngàn': 7, 'ssd': 7, 'cỡ': 7, 'phòng': 7, 'rán': 7, 'bả': 7, 'dở': 6, 'son': 6, 'để': 6, 'tuổi': 6, 'cũng': 6, 'cần': 6, 'luật': 6, 'khô': 6, 'gym': 6, 'giãn': 6, 'ngắm': 6, 'thắc': 6, 'shopping': 6, 'quỳnh': 6, 'siêng': 6, 'suy': 6, 'galaxy': 6, 'thiệt': 6, 'phía': 6, 'mến': 6, 'giản': 6, 'đằng': 6, 'sàng': 6, 'dàng': 6, 'khang': 6, 'lộc': 6, 'kệ': 6, 'nuôi': 6, 'ly': 6, 'nlp': 6, 'biến': 6, '80': 6, 'đảo': 6, 'rằng': 6, 'bền': 6, 'sửa': 6, 'hư': 6, 'đích': 6, 'hot': 6, 'giả': 6, 'miêu': 6, 'noel': 6, 'sapa': 6, 'vãi': 6, 'trại': 6, 'phiền': 6, 'khôngmình': 6, 'tiệc': 6, 'toi': 6, 'tục': 6, 'đẹp': 6, 'lắm': 6, 'giờ': 6, 'hủ': 6, 'thịt': 6, 'đầm': 6, 'buýt': 6, 'y': 6, 'tịch': 6, 'họp': 6, 'vợ': 6, 'nhe': 6, 'trễ': 6, 'dẹp': 6, 'offline': 6, 'màn': 6, 'hâm': 6, 'xứng': 6, 'nợ': 6, 'top': 6, 'kiểm': 6, 'mã': 6, 'marketing': 6, 'khuya': 6, 'cận': 6, 'cún': 6, 'bạ': 6, 'chổ': 6, '14': 6, '304': 6, 'lát': 6, 'nghèo': 6, 'gió': 6, 'cánh': 6, 'trúng': 6, 'search': 6, 'book': 6, 'nâng': 6, 's20': 6, 'mi': 6, 'gaming': 6, 'acer': 6, 'túi': 6, 'ruộng': 6, 'cay': 6, 'lam': 6, 'cọc': 6, 'chết': 5, 'hút': 5, 'ấm': 5, 'chỗ': 5, 'quá': 5, 'còn': 5, 'tiểu': 5, 'love': 5, 'thủy': 5, 'tráng': 5, 'trân': 5, 'quyển': 5, 'alo': 5, 'sát': 5, 'đoàn': 5, 'hồng': 5, 'kìa': 5, 'nhen': 5, 'lắng': 5, 'xấu': 5, 'nhát': 5, 'so': 5, 'vẽ': 5, 'chó': 5, 'sắc': 5, 'ngón': 5, 'vivo': 5, 'vua': 5, 'buộc': 5, 'nhơn': 5, 'niệm': 5, 'to': 5, 'nhây': 5, 'cưng': 5, 'ko': 5, 'cứu': 5, 'trứng': 5, 'nguyện': 5, 'tô': 5, 'full': 5, 'tồn': 5, 'tò': 5, 'tai': 5, 'hạn': 5, 'c': 5, 'trinh': 5, 'tam': 5, 'chữ': 5, 'hoàn': 5, '2020': 5, 'tour': 5, 'khánh': 5, 'sông': 5, 'chốt': 5, 'bùng': 5, 'ơ': 5, 'xã': 5, 'review': 5, 'tránh': 5, 'kịp': 5, 'kéo': 5, 'dang': 5, 'mầy': 5, 'ạ': 5, 'mọi': 5, 'hỏi': 5, '200': 5, 'ngãi': 5, 'vĩnh': 5, 'vinh': 5, 'sen': 5, 'vàng': 5, 'xứ': 5, 'thảo': 5, 'ruột': 5, 'sống': 5, 'buôn': 5, 'anhchị': 5, 'chồng': 5, 'marvel': 5, 'thần': 5, 'thịnh': 5, 'bhd': 5, 'phá': 5, 'mộ': 5, 'vấp': 5, 'thấy': 5, 'gắng': 5, 'vả': 5, 'hên': 5, 'mảng': 5, 'da': 5, 'tỷ': 5, 'sóng': 5, 'bông': 5, 'về': 5, 'tộc': 5, 'nguồn': 5, 'lộ': 5, 'tiếc': 5, 'lục': 5, 'bịch': 5, 'khối': 5, 'ưng': 5, 'adidas': 5, '8gb': 5, 'dạng': 5, 'core': 5, 'tr': 5, 'f': 5, 'ngôi': 5, 'budget': 5, 'ổ': 5, '200k': 5, 'yes': 5, 'tđt': 5, 'mart': 5, 'lội': 5, 'hưng': 5, 'tròn': 5, 'khẩu': 5, 'bia': 5, 'dằn': 5, 'karaoke': 4, 'hì': 4, 'đỏ': 4, 'rất': 4, 'hẹn': 4, 'những': 4, 'ấm': 4, 'áp': 4, 'muốn': 4, 'tỏa': 4, 'chăm': 4, 'gây': 4, 'avengers': 4, 'lẫn': 4, 'linh': 4, 'option': 4, '250k': 4, 'bác': 4, 'giấc': 4, 'đùa': 4, 'rác': 4, 'dõi': 4, 'rồng': 4, 'phấn': 4, 'rùa': 4, 'đếm': 4, 'mạy': 4, 'vè': 4, 'xám': 4, 'hân': 4, 'trầm': 4, 'tụ': 4, 'ton': 4, 'chill': 4, 'lùn': 4, 'nạn': 4, 'giỡn': 4, 'dơ': 4, 'what': 4, 'đòi': 4, 'le': 4, 'thổi': 4, 'te': 4, 'viết': 4, 'lừa': 4, 'axit': 4, 'quỳ': 4, 'tím': 4, 'chứng': 4, 'thặng': 4, 'soạn': 4, 'xóm': 4, 'apple': 4, 'sòng': 4, 'cổ': 4, 'kêu': 4, 'lọ': 4, 'nhãn': 4, 'cha': 4, 'lung': 4, 'hmm': 4, 'check': 4, 'muon': 4, 'nao': 4, 'ho': 4, 'phú': 4, 'tết': 4, 'sắp': 4, 'mẻ': 4, 'hà': 4, 'nội': 4, 'ngủ': 4, 'tốc': 4, 'kẹo': 4, 'kính': 4, '132': 4, 'voi': 4, 'nông': 4, 'cấm': 4, 'căng': 4, 'khúc': 4, 'bida': 4, 'software': 4, 'tiền': 4, 'viễn': 4, 'cấn': 4, 'tấn': 4, 'cổng': 4, 'vương': 4, 'bắp': 4, 'rang': 4, 'combo': 4, 'film': 4, '^^': 4, 'biên': 4, '7h': 4, 'lướt': 4, 'space': 4, 'khám': 4, 'quỹ': 4, 'săn': 4, '7h30': 4, 'sướng': 4, 'duyệt': 4, 'cresent': 4, 'you': 4, 'hàn': 4, 'cặp': 4, 'bự': 4, 'dinh': 4, 'nghành': 4, 'thạnh': 4, 'stress': 4, 'team': 4, 'vất': 4, 'd': 4, 'nope': 4, 'phái': 4, 'rửa': 4, 'việc': 4, 'gấp': 4, 'đàng': 4, 'kho': 4, 'thừa': 4, '29': 4, 'ngày': 4, 'giá': 4, 'hãy': 4, 'cãi': 4, 'yep': 4, 'dỗ': 4, 'or': 4, 'riêu': 4, 'nhĩ': 4, 'thua': 4, 'n': 4, 'thì': 4, 'đố': 4, 'ướt': 4, 'hạng': 4, 'thoáng': 4, 'quay': 4, 'tán': 4, 'cập': 4, 'chăng': 4, 'gearvn': 4, 's': 4, 'jean': 4, 'uniqlo': 4, 'android': 4, 'ưu': 4, '63': 4, 'kg': 4, 'pro': 4, '128gb': 4, 'buffet': 4, 'card': 4, 'trâu': 4, 'máy': 4, 'hợp': 4, 'áo': 4, 'polo': 4, 'nike': 4, 'tiki': 4, 'dép': 4, 'âu': 4, 'lazada': 4, 'phông': 4, 'sơmi': 4, 'phối': 4, 'bus': 4, 'yame': 4, 'sổ': 4, 'huy': 4, 'toeic': 4, 'trú': 4, 'i': 4, 'h': 4, 'wifi': 4, 'chuỗi': 4, 'quầy': 4, '1m8': 4, 'máu': 4, 'bảnh': 4, '52': 4, 'thụy': 4, 'đỗ': 4, '70kg': 4, 'kfc': 4, 'aka': 4, 'chè': 4, 'shushi': 4, 'gấu': 4, 'nhạt': 4, 'hã': 4, 'rút': 4, 'que': 4, 'huong': 4, 'rũ': 3, 'thói': 3, 'hại': 3, 'đọc': 3, 'sách': 3, 'lúc': 3, 'chán': 3, 'chắc': 3, 'sẽ': 3, 'hò': 3, 'lớn': 3, 'giây': 3, 'mà': 3, 'lạnh': 3, 'mới': 3, 'xảy': 3, 'dỗi': 3, 'bi': 3, 'trộn': 3, 'café': 3, 'bại': 3, 'info': 3, 'uốn': 3, 'nhi': 3, 'mũm': 3, 'mĩm': 3, 'say': 3, 'dựng': 3, 'mười': 3, 'thúc': 3, 'đàn': 3, 'hước': 3, 'nhàng': 3, 'kèm': 3, 'real': 3, 'grab': 3, 'khắc': 3, 'thui': 3, 'slot': 3, 'choi': 3, 'rành': 3, 'xịn': 3, 'with': 3, 'huống': 3, 'cảu': 3, 'khuyên': 3, 'bẩn': 3, 'nhàm': 3, 'chăn': 3, 'não': 3, 'bám': 3, 'liệt': 3, 'hong': 3, 'quài': 3, 'hehe': 3, 'cúp': 3, 'hang': 3, 'suối': 3, 'út': 3, 'mỏi': 3, 'miết': 3, 'giùm': 3, 'dầu': 3, 'java': 3, 'python': 3, 'thám': 3, 'muối': 3, 'góc': 3, 'hoá': 3, 'xô': 3, 'camera': 3, 'man': 3, 'tạch': 3, 'hcl': 3, 'h2so4': 3, '1000': 3, 'caoh2': 3, 'mông': 3, 'lũ': 3, 'ẩm': 3, 'nà': 3, 'ôn': 3, 'paris': 3, 'leo': 3, 'niên': 3, 'khoai': 3, 'hoành': 3, 'mot': 3, 'gan': 3, 'nè': 3, 'cầu': 3, 'dạo': 3, 'lào': 3, 'tho': 3, 'kỷ': 3, 'hồ': 3, 'quý': 3, 'món': 3, 'đãi': 3, 'mũi': 3, 'kỉ': 3, 'cam': 3, 'nhầm': 3, 'lá': 3, 'canh': 3, 'cục': 3, 'ngập': 3, 'bốn': 3, 'bậc': 3, 'trẻ': 3, 'đua': 3, 'đốc': 3, 'rời': 3, 'xưởng': 3, 'mại': 3, 'bạch': 3, 'nấy': 3, 'thành': 3, 'vai': 3, 'hầu': 3, '45': 3, 'ngô': 3, 'endgame': 3, 'chiến': 3, 'nat': 3, '17': 3, '129': 3, '3000': 3, 'ánh': 3, 'bưởi': 3, 'biểu': 3, 'anime': 3, 'light': 3, 'novel': 3, 'world': 3, 'warships': 3, 'kerbal': 3, 'program': 3, 'phasmophobia': 3, 'cyberpunk2077': 3, 'nhiệm': 3, '6h': 3, 'ư': 3, 'tố': 3, 'vào': 3, 'xu': 3, 'đứng': 3, 'nhạy': 3, 'nhắc': 3, 'phết': 3, 'tuôi': 3, 'tọa': 3, 'tràn': 3, 'trưởng': 3, 'q7': 3, 'website': 3, 'bới': 3, 'gắt': 3, 'gỏng': 3, 'gót': 3, 'nhờ': 3, 'lead': 3, 'pha': 3, 'đỉnh': 3, 'mentor': 3, 'vinmart': 3, 'hẵn': 3, 'vượt': 3, 'khởi': 3, 'giỗ': 3, 'ghi': 3, '24': 3, 'chưng': 3, 'trăm': 3, 'valentine': 3, 'cúng': 3, 'tất': 3, 'tặng': 3, 'gợi': 3, 'night': 3, 'quát': 3, 'dày': 3, 'già': 3, 'soát': 3, 'thổ': 3, 'mỏng': 3, 'nick': 3, 'ấy': 3, 'lăm': 3, 'trực': 3, 'lâm': 3, 'hậu': 3, '32': 3, 'hiểm': 3, 'mtp': 3, 'trúc': 3, 'chời': 3, 'mỡ': 3, 'mây': 3, 'cellphones': 3, '50kg': 3, 'len': 3, 'xxl': 3, 'khoác': 3, 'ios': 3, 'chip': 3, 'phổ': 3, 'max': 3, 'gb': 3, 'xiaomi': 3, 'cpu': 3, 'tính': 3, 'bộ': 3, 'nếu': 3, '1520': 3, 'phím': 3, 'kim': 3, 'phủ': 3, 'hổ': 3, 'free': 3, 'lap': 3, 'i7': 3, 'chuột': 3, '1k': 3, 'hằng': 3, 'black': 3, 'hp': 3, 'sdt': 3, 'bổ': 3, 'sđt': 3, 'dạbên': 3, 'khích': 3, 'lắp': 3, 'tuỳ': 3, 'phiếu': 3, 'ốp': 3, 'lưng': 3, '9h': 3, 'tốt': 3, 'điện': 3, 'thoại': 3, 'lol': 3, 'tuyết': 3, 'yup': 3, 'tế': 3, 'nghiên': 3, 'voan': 3, 'rãi': 3, 'đồn': 3, 'tuân': 3, 'thiểu': 3, 'am': 3, 'hộ': 3, 'khuôn': 3, 'xả': 3, 'nhảy': 3, 'form': 3, 'bãi': 3, '0123456789': 3, 'tuấn': 3, 'trâm': 3, '65kg': 3, '2002': 3, '1m5': 3, '80kg': 3, 'lô': 3, 'vây': 3, 'thuộc': 3, '1m68': 3, 'huỳnh': 3, 'ngán': 3, 'country': 3, 'thập': 3, 'app': 3, 'làng': 3, '10h': 3, 'uk': 3, 'quánh': 3, 'dô': 3, 'thận': 3, 'dách': 3, 'viet': 3, 'việt': 3, 'đản': 3, 'solo': 2, 'chấp': 2, 'lun': 2, 'tủ': 2, 'hét': 2, 'răng': 2, 'nồng': 2, 'cháy': 2, 'call': 2, 'video': 2, 'tan': 2, 'náo': 2, 'thời': 2, 'sở': 2, 'nấu': 2, 'chỉ': 2, 'ít': 2, 'và': 2, 'sầu': 2, 'dũng': 2, 'mù': 2, 'ngược': 2, 'êu': 2, 'tắc': 2, 'hóng': 2, 'niềm': 2, 'lề': 2, 'nhịp': 2, 'vế': 2, 'sưu': 2, 'dám': 2, 'ráo': 2, 'guitar': 2, 'mrqueen': 2, 'handmade': 2, 'fanpage': 2, 'mobile': 2, 'nét': 2, 'quái': 2, 'dạn': 2, 'pubg': 2, 'bát': 2, 'kêt': 2, 'friend': 2, 'benefit': 2, 'quẩy': 2, 'thấu': 2, 'ei': 2, 'cáu': 2, 'machine': 2, 'learning': 2, 'dây': 2, 'hí': 2, 'bẻ': 2, 'ny': 2, 'tom': 2, 'hôi': 2, 'béo': 2, 'tuy': 2, 'ghẹo': 2, 'rơi': 2, 'loài': 2, 'lạ': 2, 'cu': 2, 'fe': 2, 'ngã': 2, 'vinfast': 2, 'tóc': 2, 'cắt': 2, 'bể': 2, 'tần': 2, 'té': 2, 'ếch': 2, 'kèn': 2, 'bìm': 2, 'bịp': 2, 'ngốc': 2, 'language': 2, 'processing': 2, 'điển': 2, 'bazo': 2, 'oxit': 2, 'lường': 2, 'lũy': 2, 'lôi': 2, 'nhớt': 2, 'series': 2, 'iron': 2, 'cốt': 2, 'lươn': 2, 'trăng': 2, 'said': 2, 'ác': 2, 'khắp': 2, 'xăng': 2, '95': 2, '3cm': 2, '4cm': 2, 'phản': 2, 'sủi': 2, 'bọt': 2, 'chênh': 2, 'vênh': 2, 'hồn': 2, 'dã': 2, 'nôn': 2, 'ku': 2, 'rối': 2, 'sạn': 2, 'covid19': 2, 'tùm': 2, 'lum': 2, 'wow': 2, 'đán': 2, 'cáp': 2, 'quất': 2, 'mộng': 2, 'shoping': 2, 'chao': 2, 'lich': 2, 'bien': 2, 'vung': 2, 'tau': 2, 'thiet': 2, 'nhat': 2, 'mộc': 2, 'dời': 2, 'campuchia': 2, 'lịch': 2, 'đấy': 2, 'họp': 2, 'nói': 2, 'chở': 2, 'chùa': 2, 'dơi': 2, 'khoẻ': 2, 'bơ': 2, 'sáp': 2, 'dâu': 2, 'lửa': 2, 'mấy': 2, 'lò': 2, 'thuở': 2, 'thờ': 2, 'đò': 2, 'unesco': 2, 'vườn': 2, 'tét': 2, 'map': 2, 'măng': 2, '1h': 2, 'cát': 2, 'xèo': 2, 'mảnh': 2, 'mệnh': 2, 'xào': 2, 'thôn': 2, 'thơm': 2, 'landmark': 2, '81': 2, 'chúa': 2, 'chánh': 2, 'hẳn': 2, 'anhchịem': 2, 'phi': 2, 'phước': 2, 'tú': 2, 'thanos': 2, 'doremon': 2, '20h': 2, 'năn': 2, 'tỉ': 2, 'blade': 2, 'star': 2, 'war': 2, '50k': 2, '6h30': 2, 'kịch': 2, 'tu': 2, 'okmình': 2, '8h': 2, 'bắn': 2, 'ghế': 2, 'gio': 2, 'chuyền': 2, 'trailer': 2, 'khung': 2, 'kím': 2, 'on': 2, 'park': 2, 'cùng': 2, '500': 2, 'dưỡng': 2, 'chửi': 2, 'đại': 2, 'thắng': 2, 'ngành': 2, 'nghệ': 2, 'dợ': 2, 'nón': 2, 'non': 2, '87': 2, 'phức': 2, 'thuột': 2, 'toà': 2, 'normal': 2, 'g2': 2, 'kĩ': 2, 'mêm': 2, 'chấn': 2, 'nắm': 2, 'quạo': 2, 'đành': 2, 'muộn': 2, 'part': 2, 'time': 2, 'tình': 2, 'trạng': 2, 'ổn': 2, 'họa': 2, 'shipper': 2, 'bậy': 2, 'vietnam': 2, 'dvs': 2, 'backend': 2, 'abc': 2, 'lính': 2, 'mắng': 2, '700k': 2, 'ké': 2, 'dì': 2, 'bạt': 2, 'ngơi': 2, 'óc': 2, 'gía': 2, '2011': 2, '26': 2, 'phóng': 2, 'ummmình': 2, 'lau': 2, 'pháo': 2, 'xui': 2, 'bằng': 2, 'dịch': 2, 'oanh': 2, 'uyên': 2, 'bênh': 2, 'chu': 2, 'đáo': 2, 'one': 2, 'stay': 2, 'hãm': 2, 'điểm': 2, 'body': 2, 'bó': 2, 'thỏa': 2, '27': 2, 'rước': 2, 'dáng': 2, '1m6': 2, 'trể': 2, 'post': 2, 'cưa': 2, 'nồ': 2, 'nố': 2, 'nô': 2, 'xxx': 2, 'chứ': 2, 'đã': 2, 'búp': 2, 'bê': 2, '12010': 2, 'wikipedia': 2, 'hù': 2, 'súc': 2, 'tám': 2, '12h': 2, 'ôi': 2, 'karen': 2, 'che': 2, 'chiên': 2, 'tỏi': 2, 'cong': 2, 'nala': 2, 'đấm': 2, 'hack': 2, 'order': 2, 'cò': 2, 'cù': 2, 'cụt': 2, 'thánh': 2, 'cử': 2, 'chuộng': 2, 'nửa': 2, 'recommend': 2, 'promax': 2, 'xxxl': 2, '99k': 2, 'hoodie': 2, 'khen': 2, 'gọn': 2, 'ip': 2, 'freeship': 2, 'limited': 2, 'edition': 2, 'rog': 2, 'phù': 2, 'liệu': 2, 'thị': 2, 'superstar': 2, 'cứng': 2, 'dãy': 2, 'copy': 2, 'tshirt': 2, 'jordan1': 2, 'i5': 2, '2619576': 2, '1m76': 2, 'palm': 2, 'tree': 2, 'shirt': 2, '400k': 2, 'gamming': 2, 'airpay': 2, 'kiệm': 2, '1212': 2, 'friday': 2, 'tuf': 2, '19tr': 2, '512ssd': 2, 'intel': 2, 'rẽ': 2, 'lenovo': 2, 'điền': 2, 'm2': 2, '67kg': 2, 'j7': 2, 'dán': 2, 'góp': 2, 'rắn': 2, '35k': 2, 'quầnn': 2, 'rg': 2, 'e': 2, 'vincom': 2, 'mặc': 2, 'loại': 2, 'đ': 2, 'huyễn': 2, 'bla': 2, 'edm': 2, 'đan': 2, 'manchester': 2, 'united': 2, 'tennis': 2, 'mạo': 2, 'view': 2, 'lofi': 2, 'nghiêm': 2, '550': 2, 'ở': 2, 'trường': 2, 'mặc': 2, 'đồng': 2, 'phục': 2, '55': 2, 'phí': 2, 'hạn': 2, 'thầy': 2, 'lab': 2, 'cứu': 2, 'vấn': 2, 'mắn': 2, 'luận': 2, '2000000đ': 2, 'gối': 2, 'ghiền': 2, 'about': 2, 'bầu': 2, 'khói': 2, 'phà': 2, '39': 2, 'golf': 2, 'trương': 2, 'b': 2, 'trệt': 2, 'ielts': 2, 'trào': 2, 'gói': 2, '&': 2, '–': 2, 'ngũ': 2, 'nộp': 2, 'khoá': 2, 'duc': 2, 'university': 2, 'skype': 2, 'sóc': 2, 'số': 2, '75': 2, '45kg': 2, 'khải': 2, 'sáu': 2, 'mươi': 2, 'vietlot': 2, '2003': 2, 'kháng': 2, '2m': 2, '40kg': 2, 'võ': 2, 'in': 2, 'đắk': 2, 'lắk': 2, 'ah': 2, 'nhóm': 2, 'máu': 2, 'nặng': 2, 'email': 2, 'chupi': 2, '1m72': 2, '60kg': 2, '2k': 2, '72kg': 2, '1m70': 2, '22022000': 2, '54kg': 2, 'toiec': 2, 'cước': 2, 'uhm': 2, '4april': 2, '199': 2, '299': 2, '399': 2, 'hut': 2, 'sushi': 2, 'kichi': 2, 'sốt': 2, '19h30': 2, 'trấn': 2, 'thật': 2, 'happy': 2, 'money': 2, 'mĩ': 2, 'trốn': 2, 'zăn': 2, 'nhựt': 2, 'lỡ': 2, '11h': 2, 'cắp': 2, 'bước': 2, '20k': 2, '2tr': 2, 'dại': 2, 'chống': 2, 'hổm': 2, 'rịa': 2, 'don': 2, 'canada': 2, 'nguoi': 2, 'than': 2, 'thien': 2, 'thuc': 2, 'phu': 2, 've': 2, 'my': 2, 'đất': 2, 'nước': 2, 'chí': 2, 'cẩn': 2, 'ốc': 2, 'rộng': 2, 'rãi': 2, 'trống': 2, 'phơi': 2, 'tuyến': 2, 'trật': 2, 'huyện': 2, 'nình': 2, 'q1': 2, '3tr5': 2, 'hẻm': 2, 'thự': 2, 'côn': 2, 'lộn': 1, 'nhào': 1, 'yasuo': 1, 'picnic': 1, '1100': 1, 'bar': 1, 'phổi': 1, 'unfriend': 1, 'kén': 1, 't7': 1, 'thầm': 1, 'rỗi': 1, 'tìm': 1, 'uống': 1, 'hề': 1, 'giãn': 1, 'chút': 1, 'giành': 1, 'bình': 1, 'nhạc': 1, 'phút': 1, 'lùng': 1, 'thử': 1, 'lí': 1, 'tiếp': 1, 'tục': 1, 'điều': 1, 'tuỳ': 1, 'bịu': 1, 'đụng': 1, 'uầy': 1, 'coffeetown': 1, 'li': 1, 'chặn': 1, 'true': 1, 'mịt': 1, 'end': 1, 'bátvui': 1, 's2m': 1, 'tháy': 1, 'ờ': 1, 'ân': 1, 'khía': 1, 'kha': 1, 'biện': 1, 'nhoáng': 1, 'films': 1, 'lỗimình': 1, 'lui': 1, 'banned': 1, 'usd': 1, 'thà': 1, 'nỗi': 1, 'trọn': 1, 'vẹn': 1, 'giành': 1, 'tivi': 1, 'ván': 1, 'riot': 1, 'lego': 1, 'highland': 1, 'videos': 1, 'sẳn': 1, 'ngây': 1, 'ấykhông': 1, 'giường': 1, 'teokbokki': 1, 'gảy': 1, 'cất': 1, 'warframe': 1, 'master': 1, 'rank': 1, 'ntna': 1, 'nghịch': 1, 'trôi': 1, 'rep': 1, 'khiếu': 1, 'thiệp': 1, 'sticker': 1, 'xẻo': 1, 'vứt': 1, 'cảng': 1, 'thình': 1, 'đaua': 1, 'ngỏ': 1, '269': 1, 'giai': 1, 'nhút': 1, 'nhứ': 1, 'nhiểu': 1, 'san': 1, 'nết': 1, 'bảo': 1, 'bè': 1, 'sashimi': 1, 'vốn': 1, 'dính': 1, 'liếu': 1, 'sợi': 1, 'ml': 1, 'đèn': 1, 'mqh': 1, 'dợbạn': 1, 'trạch': 1, 'thoát': 1, 'cậy': 1, 'điếu': 1, 'miếng': 1, 'moto': 1, 'nộitrầm': 1, 'sâu': 1, 'nhều': 1, 'truân': 1, 'tommie': 1, 'tommy': 1, 'gta': 1, 'vice': 1, 'vầy': 1, 'gen': 1, 'heo': 1, 'homies': 1, 'tánh': 1, 'chọc': 1, 'cày': 1, 'traibạn': 1, 'túy': 1, 'bách': 1, 'trụ': 1, 'h2': 1, 'o2': 1, 'hoho': 1, '314': 1, 'khờ': 1, 'neo': 1, 'dựa': 1, 'cú': 1, 'chủng': 1, 'què': 1, 'byte': 1, 'bit': 1, 'maclenin': 1, 'eagle': 1, 'kiệt': 1, 'pm': 1, 'suv': 1, 'lamborghini': 1, 'urus': 1, 'lux': 1, '600': 1, 'tấu': 1, 'pompadour': 1, 'barrad': 1, 'khôngtại': 1, 'đómôn': 1, 'nlptại': 1, 'vịmôn': 1, 'châm': 1, 'huấn': 1, '***': 1, 'natural': 1, 'neuron': 1, 'v': 1, 'sherlock': 1, 'homes': 1, 'thước': 1, 'hóachức': 1, 'trao': 1, 'mậy': 1, '0': 1, 'chua': 1, 'xão': 1, 'scarlett': 1, 'johansson': 1, 'nêu': 1, 'lẹo': 1, 'mùi': 1, 'kiều': 1, 'khốc': 1, 'ngừng': 1, 'gg': 1, 'stamps': 1, 'pcx': 1, 'lít': 1, 'ron': 1, 'sênh': 1, '5cm': 1, 'bacl2': 1, 'đượcliệu': 1, 'vắng': 1, 'bù': 1, '“bắp”': 1, 'bặm': 1, 'lượt': 1, 'tủa': 1, 'provjp': 1, 'chảy': 1, '3888': 1, 'hiếm': 1, 'tổn': 1, 'hú': 1, '5ngày': 1, '4đêm': 1, 'giáng': 1, 'bigben': 1, 'singapore': 1, '5h': 1, 'lang': 1, 'đc': 1, 'lối': 1, 'lạtbạn': 1, 'đượcthú': 1, 'đêmbạn': 1, 'ranhưng': 1, 'gậy': 1, 'àmình': 1, 'sẵm': 1, 'nhânbạn': 1, 'rồimình': 1, 'groub': 1, 'fb': 1, 'kiếnbạn': 1, 'đấynhớ': 1, 'êi': 1, 'de': 1, 'biet': 1, 'hien': 1, 'um': 1, 'vote': 1, 'mực': 1, 'vinpearl': 1, 'ăngcovat': 1, 'cap': 1, 'nhỉ': 1, 'vịnh': 1, 'hạ': 1, 'lớp': 1, 'ohm': 1, 'hả': 1, 'dịp': 1, 'chuyến': 1, 'ế': 1, 'nghiệp': 1, 'phước': 1, 'phóng': 1, 'sanh': 1, 'riên': 1, 'pía': 1, '300': 1, 'mỳ': 1, 'hoàn': 1, 'kiếm': 1, 'lần': 1, 'mến': 1, 'bún': 1, 'chả': 1, 'đường': 1, 'vàn': 1, 'mứt': 1, 'vang': 1, '350km': 1, '80km': 1, 'vú': 1, '64km': 1, 'mợ': 1, 'lụt': 1, 'haizz': 1, 'dai': 1, 'ấu': 1, '1800': 1, '100km': 1, 'trứ': 1, 'ấp': 1, '1700': 1, 'nhộn': 1, 'thoa': 1, 'ú': 1, 'sành': 1, 'kè': 1, 'trồng': 1, '172km': 1, 'lái': 1, 'thiêu': 1, 'nhâm': 1, '30km': 1, '86': 1, 'đồi': 1, '200km': 1, 'thép': 1, 'tơ': 1, '50km': 1, 'aeon': 1, 'vội': 1, 'chan': 1, 'lúa': 1, 'thốt': 1, 'nốt': 1, 'lụa': 1, 'kênh': 1, 'rạch': 1, 'đắc': 1, 'phật': 1, 'lặt': 1, '2000km': 1, 'tttạp': 1, 'trưng': 1, 'lạp': 1, 'gạo': 1, 'nàng': 1, 'dưa': 1, 'hấu': 1, 'cẩm': 1, 'phèo': 1, 'nếp': 1, 'tá': 1, 'sum': 1, 'los': 1, 'angeles': 1, 'đế': 1, 'áahihi': 1, 'gáitrai': 1, 'tường': 1, '1945': 1, 'ceo': 1, '1973': 1, '48': 1, '41': 1, 'lụm': 1, 'sọt': 1, 'vượng': 1, 'đít': 1, 'trump': 1, 'xế': 1, 'suốt': 1, 'thuần': 1, '\\u200b\\u200bhay': 1, 'lằm': 1, 'na': 1, 'cóa': 1, '44': 1, 'noo': 1, 'transformer': 1, 'titanic': 1, 'dc': 1, 'comic': 1, 'hbd': 1, 'bom': 1, 'spoiler': 1, 'csgo': 1, 'tói': 1, 'vcs': 1, 'gam': 1, 'se': 1, 'hard': 1, '19h': 1, 'tch': 1, 'đểu': 1, 'kingsman': 1, 'bốn4': 1, 'plaza': 1, 'ăng': 1, 'center': 1, '14giờ': 1, 'nỉ': 1, 'a003': 1, 'show': 1, 'concert': 1, 'hoãn': 1, 'thsich': 1, 'okvậy': 1, 'okcảm': 1, 'movie': 1, 'manga': 1, 'genshin': 1, 'impact': 1, 'minecraft': 1, 'mount': 1, 'and': 1, 'witcher': 1, 'bằn': 1, '2016': 1, 'teo': 1, 'lữa': 1, 'shuttle': 1, 'coop': 1, 'giết': 1, 'studios': 1, 'robert': 1, 'downey': 1, 'jr': 1, 'prison': 1, 'break': 1, 'phimn': 1, 'drama': 1, 'doraemon': 1, 'netflix': 1, 'j': 1, 'kình': 1, 'cómình': 1, 'lmht': 1, 'cóđó': 1, 'vn': 1, 'thailan': 1, 'súng': 1, 'gi': 1, 'bấm': 1, 'godzilla': 1, 'vs': 1, 'kong': 1, '6g': 1, 'chì': 1, 'saw': 1, 'kẻ': 1, 'hủy': 1, 'diệt': 1, 'crash': 1, 'landing': 1, 'tội': 1, 'extracurricular': 1, 'avendture': 1, 'toả': 1, '17h': 1, 'đánh': 1, 'infinity': 1, 'thor': 1, 'nhắm': 1, 'đầu': 1, 'vé': 1, 'buồn': 1, 'sub': 1, 'coures': 1, 'thoi': 1, 'minhf': 1, 'đức': 1, 'khao': 1, 'hạo': 1, 'gáiahihi': 1, 'saovậy': 1, 'ahihimình': 1, 'vậybày': 1, 'ahhi': 1, 'êyyyy': 1, 'dammn': 1, 'mầm': 1, 'tri': 1, '64': 1, 'vách': 1, 'set': 1, 'tạp': 1, '60k': 1, 'a703': 1, 'troll': 1, '**': 1, '823': 1, 'd0502a': 1, 'computer': 1, 'science': 1, 'district': 1, 'math': 1, 'tâp': 1, 'cs': 1, 'rmit': 1, 'khôngrất': 1, '35': 1, 'triễn': 1, 'ônr': 1, 'teky': 1, 'agency': 1, 'húp': 1, 'ganh': 1, 'phe': 1, 'kề': 1, 'hối': 1, '8tiếng': 1, 'dev': 1, 'devops': 1, 'vl': 1, 'àm': 1, 'kase': 1, 'edu': 1, 'nhàn': 1, 'nhạ': 1, 'vỉa': 1, 'nghề': 1, 'dĩ': 1, 'vũ': 1, 'trọng': 1, 'phụng': 1, 'nụ': 1, 'cười': 1, \"'ăn\": 1, \"rồi'\": 1, 'idea': 1, 'qa': 1, 'gameloft': 1, 'gìnghề': 1, 'fullstack': 1, 'biếng': 1, '5000$': 1, 'côg': 1, 'hacker': 1, 'chinh': 1, 'gầm': 1, 'khấu': 1, 'stack': 1, 'thải': 1, 'kìm': 1, 'nén': 1, 'coach': 1, '19tr500': 1, 'fpts': 1, 'ngộ': 1, 'senior': 1, 'tester': 1, 'khế': 1, 'dỡ': 1, 'lặp': 1, 'trữ': 1, 'highlands': 1, 'mãn': 1, 'ngỡ': 1, 'erp': 1, 'business': 1, 'analyst': 1, 'khồng': 1, 'nàoôn': 1, 'nhiềunhưng': 1, 'rầy': 1, 'hẳnanh': 1, 'khôngcông': 1, '2km': 1, '15p': 1, 'cyberlogitec': 1, 'dồn': 1, 'dập': 1, 'gút': 1, 'leader': 1, 'ây': 1, 'câụ': 1, 'nền': 1, 'cớ': 1, 'sv': 1, 'vẫn': 1, 'kể': 1, 'xếp': 1, 'báo': 1, 'cáo': 1, 'dạ': 1, 'mẹ': 1, 'developer': 1, 'api': 1, 'dối': 1, 'dón': 1, 'cuôi': 1, 'ngoái': 1, '25âm': 1, 'làn': 1, 'tung': 1, 'giêng': 1, 'sửu': 1, 'khoang': 1, 'cám': 1, 'bô': 1, '30415': 1, 'tếtmình': 1, 'ummmđợt': 1, 'ummmmbạn': 1, '49': 1, 'tứ': 1, '28': 1, 'chùi': 1, 'bụi': 1, 'táo': 1, 'group': 1, '622021': 1, '2122021': 1, '2142021': 1, 'nghỉ': 1, 'quây': 1, 'quần': 1, 'tới': 1, '83': 1, 'quà': 1, 'chính': 1, 'bệnh': 1, 'chống': 1, 'mệt': 1, 'tcnh': 1, 'hoy': 1, 'lưới': 1, 'ngờ': 1, 'mò': 1, 'mí': 1, 'sánh': 1, 'cởi': 1, 'rùi': 1, 'dùm': 1, 'bọc': 1, 'lãng': 1, 'mạn': 1, 'mnhf': 1, 'diệu': 1, 'múi': 1, 'single': 1, 'date': 1, 'mờ': 1, 'stand': 1, 'troai': 1, 'perfect': 1, 'kiên': 1, '67': 1, 'iu': 1, 'nhờn': 1, 'quậy': 1, 'nồi': 1, 'sôi': 1, 'gân': 1, 'mô': 1, 'huề': 1, 'huhuhuhuhu': 1, 'vững': 1, 'nhẫn': 1, 'nhịn': 1, 'cạo': 1, 'mìn': 1, 'desktop': 1, 'manh': 1, 'goodboy': 1, 'hhihi': 1, 'gương': 1, 'hihitớ': 1, 'đấycó': 1, 'kó': 1, '20t': 1, 'blog': 1, 'instagram': 1, 'méo': 1, 'ơitớ': 1, 'nũa': 1, 'câuk': 1, 'áy': 1, 'can': 1, 'cuới': 1, 'dự': 1, 'đám': 1, 'cưới': 1, 'chúc': 1, 'mừng': 1, 'fa': 1, 'hoài': 1, 'mặt': 1, 'mụn': 1, 'dược': 1, 'tài': 1, 'giỏi': 1, 'giàu': 1, 'đạt': 1, 'trước': 1, 'phấn': 1, 'đấu': 1, 'đuổi': 1, 'iq': 1, 'khủng': 1, 'gao': 1, 'xưa': 1, 'nằm': 1, 'bận': 1, 'nó': 1, 'phá': 1, 'hoại': 1, 'cảm': 1, 'giác': 1, 'lẽ': 1, 'giấc': 1, 'nồi': 1, 'lẩu': 1, 'ý': 1, 'trí': 1, 'tuệ': 1, 'tạo': 1, 'nhăm': 1, 'u': 1, 'khái': 1, 'robotxyz': 1, 'vừng': 1, 'alex': 1, 'amazon': 1, 'a7': 1, 'b1': 1, 'c3': 1, 'd8': 1, 'e6': 1, 'f4': 1, 'h5': 1, 'ngựa': 1, '72h': 1, 'chén': 1, 'dần': 1, 'starbucks': 1, 'khóc': 1, 'nguy': 1, 'ớt': 1, 'kín': 1, '121123': 1, '321': 1, '121': 1, 'albert': 1, 'einstein': 1, '1905': 1, '1915': 1, '1916': 1, 'hẹp': 1, 'cơn': 1, 'dể': 1, 'trơn': 1, 'tru': 1, 'òm': 1, 'thắn': 1, 'tơi': 1, '1233311': 1, 'thết': 1, 'elon': 1, 'musk': 1, 'treding': 1, 'youtube': 1, 'skyler': 1, 'tạnh': 1, 'chém': 1, 'm6': 1, '399k': 1, 'cậumuốn': 1, 's21': 1, 'ultra': 1, 'chàng': 1, 'huawei': 1, 'tgdđ': 1, 'h&m': 1, 'mazzola': 1, '150k': 1, 'gòm': 1, 'chỉnh': 1, 'm1': 1, 'fps': 1, 'voucher': 1, 'dặn': 1, 'smlxl': 1, '299k': 1, 'xẽ': 1, '50000vnđ': 1, 'ip12': 1, '34': 1, 'dứt': 1, 'didongviet': 1, 'redmi': 1, 'note': 1, '9s': 1, 'link': 1, 'mún': 1, 'vớimáy': 1, 'hd': 1, 'pin': 1, '69': 1, 'momo': 1, 'cáo': 1, 'cotton': 1, 'balenciaga': 1, 'minmin': 1, 'store': 1, 'vảo': 1, 'tập': 1, 'mập': 1, 'bàn': 1, 'ghế': 1, 'lấy': 1, 'phụ': 1, 'kiện': 1, 'sneaker': 1, 'ultrboost': 1, 'denim': 1, 'levono': 1, 'airpod': 1, 'sẫm': 1, 'ừng': 1, '630k': 1, 'zombieshop': 1, 'yameshop': 1, 'bitis': 1, '99%': 1, 'new': 1, 'box': 1, '30k': 1, 'air': 1, '2018': 1, 'tgb': 1, '512gb': 1, 'khe': 1, 'a512fa': 1, 'ej2005t': 1, 'strix': 1, 'g531': 1, '10300h': 1, '55kg': 1, '480k': 1, 'vintage': 1, 'cở': 1, 'lót': 1, '325': 1, '225': 1, 'mướt': 1, 'eyeliner': 1, 'chớp': 1, 'shoppe': 1, 'flash': 1, 'địch': 1, 'dấu': 1, 'nhở': 1, '1111': 1, '110': 1, 'gdtc': 1, 'tv': 1, 'model': 1, 'ua55tu7000': 1, '8g': 1, 'enchanteur': 1, 'moon': 1, '7eleven': 1, '100m2': 1, 'dộng': 1, '1m74': 1, '113': 1, 'muôn': 1, 'lee': 1, '18h': 1, 'dạshop': 1, 'dạhiện': 1, 'dạkhi': 1, 'balo': 1, 'lãi': 1, '0%': 1, '470': 1, 'aaa': 1, '16gb': 1, 'thơi': 1, 'sata3': 1, 'tải': 1, 'chóng': 1, 'pcie': 1, 'ad': 1, '120k': 1, '15k': 1, '512': 1, 'cơhihi': 1, 'phiên': 1, 'techcombank': 1, '15%': 1, 'giầy': 1, 'vans': 1, 'oppo': 1, 'levis': 1, 'xách': 1, 'tâycậu': 1, 'cónhưng': 1, '1500k': 1, 'g102': 1, 'ởi': 1, 'jeans': 1, 'smnartphone': 1, 'selfphie': 1, 'chânt': 1, 'lầm': 1, '300k': 1, 'dùng': 1, 'hãng': 1, 'thoải': 1, 'mái': 1, 'bị': 1, 'rách': 1, 'cái': 1, 'giảm': 1, 'chụp': 1, 'hình': 1, 'xịn': 1, '500000': 1, 'avenger': 1, 'dền': 1, 'mỉnh': 1, 'khuynh': 1, 'đẽ': 1, 'chelsea': 1, 'lệ': 1, 'maybe': 1, 'hiệp': 1, 'billard': 1, 'iot': 1, 'rpg': 1, 'johny': 1, 'deep': 1, 'justin': 1, 'bieber': 1, 'r&b': 1, 'pop': 1, 'lord': 1, 'ring': 1, 'dị': 1, 'mes': 1, 'bd': 1, 'brand': 1, 'hơnnot': 1, 'both': 1, 'tuệ': 1, 'wibu': 1, 'avatar': 1, 'pho': 1, 'transformers': 1, 'isaac': 1, 'lulu005': 1, 'jav': 1, 'animation': 1, 'gánh': 1, 'vai***': 1, 'thù': 1, 'lù': 1, 'blackpink': 1, 'thậm': 1, 'giò': 1, 'producer': 1, 'lắmmón': 1, 'phô': 1, 'accoustic': 1, 'cover': 1, 'live': 1, 'liz': 1, 'yoga': 1, 'phin': 1, 'mavel': 1, 'trì': 1, 'luộc': 1, 'chấm': 1, 'nêm': 1, 'thong': 1, '11h30': 1, '17h30': 1, 'qs': 1, 'chát': 1, 'đối': 1, 'quản': 1, 'trị': 1, 'cấp': 1, 'e001': 1, '700': 1, '250ktháng': 1, '600k': 1, 'ống': 1, 'nice': 1, '30000000đ': 1, '200000đ': 1, '500000đ': 1, 'ngang': 1, '700000đ': 1, '900000đ': 1, '1800000đ': 1, '4000000đ': 1, 'đạc': 1, 'xiên': 1, 'vẹo': 1, 'thòi': 1, 'nghen': 1, 'how': 1, 'think': 1, 'kido': 1, 'since': 1, 'shebyshe': 1, 'vy': 1, 'tĩnhnghệ': 1, 'thở': 1, 'mốt': 1, '99': 1, 'huyết': 1, '1320': 1, '4050': 1, 'g': 1, 'chợt': 1, 'pet': 1, 'tenis': 1, 'vnd': 1, 'vv': 1, 'chât': 1, 'chê': 1, 'đên': 1, 'thây': 1, 'tụy': 1, 'xuyêt': 1, 'chữa': 1, 'phụng': 1, '2424': 1, 'clc': 1, '138': 1, 'tuẩn': 1, 'thao…': 1, 'nhằm': 1, 'luân': 1, 'campus': 1, '127': 1, 'canteen': 1, 'trách': 1, 'secondhand': 1, 'lân': 1, 'cừ': 1, 'bigc': 1, 'seven': 1, 'eleven': 1, 'circle': 1, 'family': 1, 'starbuck': 1, 'múa': 1, '2010': 1, '2019': 1, 'page': 1, '1015': 1, 'bỏng': 1, 'hầm': 1, 'ảo': 1, '1084': 1, '0938410364': 1, 'x': 1, 'z': 1, '10416220': 1, 'zalo': 1, 'hem': 1, 'face': 1, 'nxhung0405': 1, '0917234872': 1, 'rể': 1, 'sảng': 1, 'khoái': 1, 'nghê': 1, 'p': 1, '0792240342': 1, '1997': 1, 'danchoi': 1, 'cường': 1, 'độc': 1, '0925632541': 1, 'nỗ': 1, '1m79': 1, '68': 1, 'nhòm': 1, 'ngó': 1, 'zara': 1, \"biti's\": 1, 'short': 1, 'ngắn': 1, 'nitro': 1, 'xgear': 1, 'gj': 1, 'dúng': 1, 'ni': 1, '175cm': 1, 'chín': 1, '09000000000': 1, '0707336606': 1, '1991': 1, 'floria': 1, 'thạch': 1, 'xấp': 1, 'xỉ': 1, 'middle': 1, 'huh': 1, '2007': 1, '1m50': 1, 'tạ': 1, '1m75': 1, 'phát': 1, 'ab': 1, 'stream': 1, 'khanh': 1, '0832840***': 1, 'vinhome': 1, 'mxh': 1, 'khanhduynguyen170900gmailcom': 1, 'mail': 1, 'giamdockhanhnguyenvinvn': 1, 'quaahihi': 1, 'zậy': 1, 'chậm': 1, 'bean': 1, '90': 1, '60': 1, 'loan': 1, '1m67': 1, '150kg': 1, 'hmong': 1, 'jang': 1, 'jam': 1, '1204': 1, 'lian': 1, '01012000': 1, 'automatic': 1, 'corgi': 1, '74kg': 1, 'chubby': 1, 'bùi': 1, '35f': 1, 'cự': 1, '1m59': 1, '51kg': 1, '0782513xxx': 1, '70': 1, 'manwah': 1, '0334xxxxxx': 1, '1m57': 1, '1m60': 1, '1m73': 1, '170cm': 1, '170': 1, '52kg': 1, '75kg': 1, 'cm': 1, '13km': 1, 'bào': 1, 'củng': 1, 'ráng': 1, 'project': 1, 'ngư': 1, 'chăc': 1, 'music': 1, '04': 1, 'lipton': 1, 'muống': 1, '0977736413': 1, 'cmnd': 1, 'viettel': 1, 'hcn': 1, 'xao': 1, '184cm': 1, '58kg': 1, 'tở': 1, '0123456798': 1, '0234567891': 1, 'nắm': 1, 'giới': 1, '0902622737': 1, 'okk': 1, 'nhì': 1, 'đị': 1, 'trán': 1, 'cháo': 1, 'ntt': 1, 'vỹ': 1, 'hỉ': 1, 'khôhủ': 1, 'tàm': 1, 'diamond': 1, 'deal': 1, 'gojek': 1, 'bobayes': 1, 'caphe': 1, 'domino': 1, 'dookki': 1, 'busan': 1, 'ong': 1, 'yến': 1, 'hiển': 1, 'mừng': 1, 'dàn': 1, 'miệng': 1, 'them': 1, 'trùm': 1, 'beefsteak': 1, 'quẹo': 1, 'fastfood': 1, \"mcdonald's\": 1, '22a': 1, 'lão': 1, '700000': 1, 'sảy': 1, 'panda': 1, 'chuối': 1, 'nấm': 1, 'tiềm': 1, 'sườn': 1, 'okchúng': 1, '2h': 1, 'ik': 1, 'làmhihi': 1, 'okkie': 1, 'trờ': 1, 'okkk': 1, '7g': 1, 'cỗ': 1, 'điii': 1, 'nghêu': 1, 'sò': 1, 'xyz': 1, 'hổng': 1, 'now': 1, 'chay': 1, 'trồngn': 1, 'hủ': 1, 'tiếu': 1, 'đói': 1, 'cuối': 1, 'tuần': 1, 'hóa': 1, 'quán': 1, 'mở': 1, 'bán': 1, 'ngùng': 1, 'thả': 1, 'thính': 1, 'đặng': 1, 'thih1': 1, 'bốc': 1, 'ní': 1, 'ngầm': 1, 'chảnh': 1, 'trả': 1, 'lời': 1, 'quét': 1, 'okey': 1, 'sad': 1, 'honey': 1, 'gòi': 1, 'fan': 1, 'cùa': 1, 'trêu': 1, 'gẫu': 1, '10000$': 1, 'robo': 1, 'trùng': 1, '8đ': 1, 'nút': 1, 'nothanks': 1, 'susan': 1, '0175': 1, 'aiiii': 1, 'hotgirl': 1, 'mề': 1, 'nư': 1, 'sề': 1, 'ề': 1, 'ngọn': 1, 'ghen': 1, 'quác': 1, 'uổng': 1, 'hàm': 1, 'khán': 1, 'vỗ': 1, 'challenge': 1, '“': 1, 'đó”': 1, 'va': 1, 'bặc': 1, 'híu': 1, 'trư': 1, 'phàm': 1, 'quỷ': 1, 'angle': 1, 'dòm': 1, 'triệungày': 1, 'ghẻ': 1, 'nhoa': 1, 'giật': 1, 'hỗm': 1, 'drew': 1, 'chích': 1, 'ngừa': 1, 'chụm': 1, 'esport': 1, '600km': 1, 'qui': 1, 'đền': 1, 'cửu': 1, 'giáp': 1, '1500km': 1, '2tiếng': 1, 'miến': 1, 'đơ': 1, 'xéo': 1, 'né': 1, 'bàu': 1, 'cóviệt': 1, 'nởi': 1, '1398': 1, 'khắt': 1, 'nghiệt': 1, 'bển': 1, '300km': 1, 'welcome': 1, 'xi': 1, 'hái': 1, 'dốc': 1, 'lượm': 1, 'hạt': 1, 'su': 1, 'cống': 1, 'hiến': 1, 'tràm': 1, 'lăng': 1, 'phó': 1, 'đâumình': 1, 'địnhmình': 1, 'ummình': 1, 'thápmình': 1, 'hộinhưng': 1, 'umhy': 1, 'nhơnmình': 1, 'waooonếu': 1, 'đẹpkhông': 1, 'ummmhy': 1, 'tháphy': 1, 'rồithật': 1, '900km': 1, 'hoc': 1, 'dat': 1, 'nuoc': 1, 'tro': 1, 'tat': 1, 'nhien': 1, 'nem': 1, 'lụi': 1, 'tré': 1, 'bèo': 1, 'bột': 1, 'lọc': 1, 'nậm': 1, 'mụ': 1, 'answer': 1, 'me': 1, 'your': 1, 'is': 1, 'nôi': 1, 'gàn': 1, 'khoe': 1, 'tự': 1, 'hào': 1, 'địchviệt': 1, 'địch': 1, 'bác': 1, 'hè': 1, 'xoay': 1, 'facebookk': 1, 'giấy': 1, 'kị': 1, '200m': 1, '40k': 1, 'trạm': 1, 'kw': 1, '1kw': 1, 'trộm': 1, '800k': 1, 'nah': 1, 'timd': 1, 'saobạn': 1, '5tr': 1, '2tr5': 1, 'rắc': 1, 'toilet': 1, 'ùm': 1, '1tr2': 1, 'nhẹt': 1, 'okiela': 1, 'sủa': 1, '1m3': 1, '3k': 1, 'móc': 1, 'bừa': 1, 'gật': 1, 'bếp': 1, 'ga': 1, '11tr5': 1, '80%': 1, 'kahs': 1, 'mfinh': 1, 'tù': 1, 'túng': 1, 'vi': 1, '1km': 1, 'penthouse': 1, 'thượng': 1, \"that's\": 1, 'right': 1, 'ki': 1, 'dình': 1, 'quận': 1, 'tphồ': 1, 'mặn': 1, 'đai': 1, 'cằn': 1, 'cỗi': 1, 'partjob': 1, 'trạchđồng': 1, 'êyyy': 1, 'bờ': 1, 'hecta': 1, 'phiệt': 1, 'nộng': 1, '243': 1, 'p8': 1, 'q4': 1, 'iii': 1, 'điểu': 1, '3xx': 1, 'moal': 1, 'tpbuôn': 1, 'đắklắk': 1, 'thênh': 1, 'ninja': 1, 'uỷ': 1, 'hokkaido': 1, '38081': 1, 'tôm': 1, 'ddaau': 1, 'course': 1, 'pink': 1, 'area': 1, 'đện': 1, '3km': 1, 'bang': 1, 'texas': 1, 'lãnh': 1, '143': 1})\n"
     ]
    }
   ],
   "source": [
    "from collections import Counter\n",
    "word_freq = Counter()\n",
    "for i in range(len(questions)):\n",
    "    word_freq.update(questionsSegments[i])\n",
    "    word_freq.update(answerSegments[i])\n",
    "print(word_freq)"
   ]
  },
  {
   "cell_type": "code",
   "execution_count": 6,
   "id": "4a70620d",
   "metadata": {},
   "outputs": [
    {
     "name": "stdout",
     "output_type": "stream",
     "text": [
      "Total words are: 1548\n",
      "{'thích': 1, 'đánh': 2, 'không': 3, 'ngon': 4, 'vô': 5, '2': 6, 'mạng': 7, 'đầu': 8, 'mai': 9, 'đi': 10, 'bận': 11, 'học': 12, 'rồi': 13, 'ca': 14, 'mấy': 15, 'vậy': 16, '3': 17, 'còn': 18, 'tiền': 19, 'chết': 20, 'liền': 21, 'giờ': 22, 'nhỉ': 23, 'bao': 24, 'lâu': 25, 'chưa': 26, 'về': 27, 'quê': 28, '1': 29, 'tháng': 30, 'bạn': 31, 'có': 32, 'crush': 33, 'mình': 34, 'khoảng': 35, '10': 36, 'năm': 37, 'bồ': 38, 'huhu': 39, 'sao': 40, '': 41, 'cưới': 42, 'mà': 43, 'nào': 44, 'thì': 45, 'hết': 46, 'thôi': 47, 'trai': 48, 'đang': 49, 'ế': 50, 'đây': 51, 'này': 52, 'rảnh': 53, 'chơi': 54, 'quen': 55, 'làm': 56, 'gì': 57, 'khi': 58, 'à': 59, 'tui': 60, 'xem': 61, 'phim': 62, 'đọc': 63, 'truyện': 64, 'và': 65, 'đặc': 66, 'biệt': 67, 'là': 68, 'qua': 69, 'đêm': 70, 'cùng': 71, 'bè': 72, 'vì': 73, 'điều': 74, 'đó': 75, 'đem': 76, 'lại': 77, 'cảm': 78, 'giác': 79, 'hạnh': 80, 'phúc': 81, 'nơi': 82, 'của': 83, 'ở': 84, 'đâu': 85, 'với': 86, 'chính': 87, 'karaoke': 88, 'mọi': 89, 'người': 90, 'nhau': 91, 'hò': 92, 'rất': 93, 'vui': 94, 'hút': 95, 'thuốc': 96, 'lúc': 97, 'nó': 98, 'bài': 99, 'thật': 100, 'ra': 101, 'đối': 102, 'chuyện': 103, 'thường': 104, 'xuyên': 105, 'những': 106, 'lắm': 107, 'muốn': 108, 'bơi': 109, 'hơi': 110, 'dở': 111, 'chỉ': 112, 'ngồi': 113, 'coi': 114, 'nên': 115, 'dạo': 116, 'ổn': 117, 'buồn': 118, 'trên': 119, 'facebook': 120, 'tôi': 121, 'nhắn': 122, 'tin': 123, 'cũng': 124, 'k': 125, 'được': 126, 'nữa': 127, 'tỏ': 128, 'tình': 129, 'bữa': 130, 'thấy': 131, 'chung': 132, 'nữ': 133, 'phải': 134, 'hì': 135, 'may': 136, 'ơi': 137, 'xong': 138, 'mặt': 139, 'đỏ': 140, 'lên': 141, 'biết': 142, 'vận': 143, 'đến': 144, 'bảo': 145, 'anh': 146, 'mưa': 147, 'á': 148, 'mẫu': 149, 'như': 150, 'thế': 151, 'thể': 152, 'chia': 153, 'sẻ': 154, 'chọn': 155, 'con': 156, 'gái': 157, 'dễ': 158, 'thương': 159, 'mét': 160, '7': 161, 'nhà': 162, 'giàu': 163, 'tặng': 164, 'quà': 165, 'cho': 166, 'yêu': 167, 'dịp': 168, 'lễ': 169, 'bình': 170, 'sẽ': 171, 'hoa': 172, 'son': 173, 'nhưng': 174, 'bánh': 175, 'do': 176, 'để': 177, 'giữ': 178, 'mối': 179, 'quan': 180, 'hệ': 181, 'mỗi': 182, 'ngày': 183, 'ấy': 184, 'vào': 185, 'sáng': 186, 'kể': 187, 'hôm': 188, 'nay': 189, 'đã': 190, 'buổi': 191, 'trưa': 192, 'đợi': 193, 'cô': 194, 'chở': 195, 'ăn': 196, 'hay': 197, 'thao': 198, 'đá': 199, 'banh': 200, 'tối': 201, 'tuần': 202, 'uống': 203, 'cà': 204, 'phê': 205, 'quán': 206, 'tại': 207, 'cộng': 208, 'ngoài': 209, 'tập': 210, 'sở': 211, 'khác': 212, 'sách': 213, 'sợ': 214, 'chúng': 215, 'phố': 216, 'bộ': 217, 'quận': 218, 'rãnh': 219, 'cafe': 220, 'nghe': 221, 'nhạc': 222, 'rỗi': 223, 'thỉnh': 224, 'thoảng': 225, 'mới': 226, 'long': 227, 'gần': 228, 'ai': 229, 'cấp': 230, 'ấm': 231, 'áp': 232, 'thông': 233, 'minh': 234, 'hẹn': 235, 'nhiệt': 236, 'chiếu': 237, 'rạp': 238, 'một': 239, 'nam': 240, 'lớp': 241, 'bên': 242, 'cậu': 243, 'định': 244, 'trong': 245, 'thời': 246, 'gian': 247, 'tới': 248, 'tự': 249, 'cậu': 250, 'có': 251, 'game': 252, 'rảnh': 253, 'rất': 254, 'thích': 255, 'thường': 256, 'tớ': 257, 'chỗ': 258, 'thư': 259, 'một': 260, 'nào': 261, 'nhiêu': 262, 'để': 263, 'làm': 264, 'gì': 265, 'hơn': 266, 'là': 267, 'mình': 268, 'hẹn': 269, 'với': 270, 'người': 271, 'tuổi': 272, 'quá': 273, 'nghĩ': 274, 'đó': 275, 'cũng': 276, 'cần': 277, 'những': 278, 'ấm': 279, 'áp': 280, 'biết': 281, 'được': 282, 'thế': 283, 'tâm': 284, 'còn': 285, 'muốn': 286, 'ê': 287, 'số': 288, 'cơ': 289, 'nhỏ': 290, 'chút': 291, 'giống': 292, 'hỏi': 293, 'hoặc': 294, 'lành': 295, 'mạnh': 296, 'loại': 297, 'văn': 298, 'nghệ': 299, 'thuật': 300, 'ít': 301, 'tiểu': 302, 'thuyết': 303, 'lý': 304, 'tìm': 305, 'hiểu': 306, 'trị': 307, 'pháp': 308, 'luật': 309, 'cái': 310, 'cần': 311, 'thiết': 312, 'viện': 313, 'mua': 314, 'yên': 315, 'tĩnh': 316, 'trung': 317, 'nhiều': 318, 'mượn': 319, 'vài': 320, 'cuốn': 321, 'mày': 322, 'khỏe': 323, 'chán': 324, 'đời': 325, 'giải': 326, 'tỏa': 327, 'thất': 328, 'kết': 329, 'xinh': 330, 'chi': 331, 'tính': 332, 'chăm': 333, 'giỏi': 334, 'hiền': 335, 'khô': 336, 'giá': 337, 'chả': 338, 'cách': 339, 'tao': 340, 'nói': 341, 'cứ': 342, 'vẻ': 343, 'khí': 344, 'nếu': 345, 'kế': 346, 'hoạch': 347, 'thành': 348, 'công': 349, 'luyện': 350, 'tay': 351, 'bàn': 352, 'phòng': 353, 'gym': 354, 'tùy': 355, 'trạng': 356, 'đăng': 357, 'kí': 358, 'ok': 359, 'the': 360, 'trường': 361, 'nghỉ': 362, 'mất': 363, 'bị': 364, 'đường': 365, 'love': 366, 'đại': 367, 'tầm': 368, '5': 369, 'đứa': 370, 'nhớ': 371, 'hiện': 372, 'lo': 373, 'nghĩ': 374, 'phận': 375, 'đen': 376, 'tương': 377, 'lai': 378, 'cuối': 379, 'đấy': 380, 'nha': 381, 'ngủ': 382, 'viên': 383, 'nước': 384, 'tụi': 385, 'chắc': 386, 'dự': 387, 'chủ': 388, 'nhật': 389, 'sắm': 390, 'sắp': 391, 'hè': 392, 'du': 393, 'lịch': 394, 'quyết': 395, 'địa': 396, 'điểm': 397, 'cụ': 398, 'phượt': 399, 'chứ': 400, 'giãn': 401, 'mèo': 402, 'từ': 403, 'chối': 404, 'quên': 405, 'việc': 406, 'tốt': 407, 'gây': 408, 'ấn': 409, 'tượng': 410, 'thay': 411, 'đổi': 412, 'bản': 413, 'thân': 414, 'theo': 415, 'hướng': 416, 'hội': 417, 'đương': 418, 'nhiên': 419, 'tạo': 420, 'đề': 421, 'bắt': 422, 'đừng': 423, 'lẽ': 424, 'bỏ': 425, 'sau': 426, 'nhất': 427, 'hành': 428, 'động': 429, 'từng': 430, 'avengers': 431, 'ngắm': 432, 'phường': 433, 'thi': 434, 'chạy': 435, 'xe': 436, 'an': 437, 'giao': 438, 'tiếp': 439, 'trò': 440, 'cả': 441, 'đều': 442, 'hứng': 443, 'thú': 444, 'các': 445, 'kiểu': 446, 'lập': 447, 'thủy': 448, 'net': 449, 'thắc': 450, 'mắc': 451, 'trí': 452, 'tưởng': 453, 'hoạt': 454, 'gu': 455, 'ạ': 456, 'nhé': 457, 'bóng': 458, 'dẫn': 459, 'shopping': 460, 'đà': 461, 'lạt': 462, 'điện': 463, 'tử': 464, 'hả': 465, 'cá': 466, 'nhân': 467, 'tất': 468, 'phụ': 469, 'đẹp': 470, 'kiện': 471, 'kinh': 472, 'tế': 473, 'hà': 474, 'nội': 475, 'sự': 476, 'yếu': 477, 'ủa': 478, 'đông': 479, 't': 480, 'toàn': 481, 'oke': 482, 'luôn': 483, 'gọi': 484, 'hương': 485, 'quỳnh': 486, 'tráng': 487, 'đồ': 488, 'trà': 489, 'sữa': 490, 'tươi': 491, 'trân': 492, 'châu': 493, 'ơn': 494, 'nhá': 495, 'mệt': 496, 'đôi': 497, 'báo': 498, 'đáp': 499, 'thêm': 500, 'thứ': 501, 'tiệm': 502, 'phí': 503, 'hoài': 504, 'quyển': 505, 'chuyên': 506, 'ngành': 507, 'giúp': 508, 'cải': 509, 'thiện': 510, 'cạnh': 511, 'tận': 512, 'hưởng': 513, 'phút': 514, 'thoải': 515, 'mái': 516, 'tiêu': 517, 'chuẩn': 518, 'siêng': 519, 'năng': 520, 'chịu': 521, 'khó': 522, 'ước': 523, 'mơ': 524, 'ngoại': 525, 'hình': 526, 'sinh': 527, 'khá': 528, 'phần': 529, 'lớn': 530, 'đủ': 531, 'dài': 532, 'lẫn': 533, 'suy': 534, 'trải': 535, 'nghiệm': 536, 'ý': 537, 'nhìn': 538, 'sống': 539, 'độc': 540, 'gặp': 541, 'ứng': 542, 'xử': 543, 'hai': 544, 'vẫn': 545, 'cgv': 546, 'liên': 547, 'huyền': 548, 'thoại': 549, 'rap': 550, 'lời': 551, 'mời': 552, 'ta': 553, 'lí': 554, 'vặt': 555, 'vòng': 556, 'đưa': 557, 'mát': 558, 'trừ': 559, 'bây': 560, 'món': 561, 'hào': 562, 'mang': 563, 'chân': 564, 'khiến': 565, 'coffee': 566, 'house': 567, 'nhóm': 568, '23': 569, 'galaxy': 570, 'chờ': 571, 'lan': 572, 'xin': 573, 'chỗ': 574, 'ưa': 575, 'nhận': 576, 'sài': 577, 'gòn': 578, 'tên': 579, 'nổi': 580, 'bật': 581, '11': 582, 'dục': 583, 'thức': 584, 'ngại': 585, 'mở': 586, 'quá': 587, 'câu': 588, 'đói': 589, 'tiến': 590, 'quả': 591, 'linh': 592, 'giữa': 593, 'thiệt': 594, 'họ': 595, 'lỗi': 596, 'tệ': 597, 'bạc': 598, 'alo': 599, 'tiết': 600, 'rủ': 601, 'khảo': 602, 'sát': 603, 'dữ': 604, 'liệu': 605, 'môn': 606, 'kia': 607, 'khoa': 608, 'lao': 609, 'đoàn': 610, 'thái': 611, 'độ': 612, 'nguyên': 613, 'kiếm': 614, 'chắn': 615, 'nấu': 616, 'đúng': 617, 'gia': 618, 'đình': 619, 'lẩu': 620, 'xa': 621, 'dịch': 622, 'hồng': 623, 'giận': 624, 'cờ': 625, 'phẩm': 626, 'đấu': 627, 'phát': 628, 'đam': 629, 'mê': 630, 'trông': 631, 'ừ': 632, 'hợp': 633, 'lẻ': 634, 'nè': 635, 'option': 636, 'kìa': 637, 'cực': 638, 'kì': 639, 'bụng': 640, 'rẻ': 641, 'nhen': 642, '250k': 643, 'cao': 644, 'tuổi': 645, 'trọng': 646, 'vấn': 647, 'lĩnh': 648, 'vực': 649, 'cntt': 650, 'bác': 651, 'sĩ': 652, 'lắng': 653, 'hồ': 654, 'biển': 655, 'giáo': 656, 'thử': 657, 'truyền': 658, 'thực': 659, 'phù': 660, 'lòng': 661, 'hôn': 662, 'xấu': 663, 'mắt': 664, 'phương': 665, 'bọn': 666, 'nắng': 667, 'nhát': 668, 'xây': 669, 'tôn': 670, 'phía': 671, 'xúc': 672, 'tinh': 673, 'thơ': 674, 'so': 675, 'ghét': 676, 'ngọt': 677, 'rau': 678, 'xanh': 679, 'tiếng': 680, 'lận': 681, 'tớ': 682, 'củ': 683, '15': 684, 'dậy': 685, 'tỉnh': 686, 'giấc': 687, '8': 688, '12': 689, 'lần': 690, 'cây': 691, 'bằng': 692, 'lấy': 693, 'ba': 694, 'thẳng': 695, 'song': 696, 'vẽ': 697, 'tranh': 698, 'vệ': 699, 'miễn': 700, 'quanh': 701, 'giới': 702, 'deadline': 703, '13': 704, 'mến': 705, 'hài': 706, 'nhẹ': 707, 'đơn': 708, 'giản': 709, 'mẹ': 710, 'vật': 711, 'chó': 712, 'đùa': 713, 'nhanh': 714, 'chất': 715, 'tấm': 716, 'xắn': 717, 'ảnh': 718, 'rác': 719, 'rèn': 720, 'kỳ': 721, 'xét': 722, 'nghiệp': 723, 'dõi': 724, 'ký': 725, 'tham': 726, 'thống': 727, 'rồng': 728, 'tổ': 729, 'chức': 730, 'cuộc': 731, 'bệnh': 732, 'phục': 733, 'kiến': 734, 'sắc': 735, 'thiệu': 736, 'trời': 737, 'lực': 738, 'phấn': 739, 'ừm': 740, 'rổ': 741, 'hồi': 742, 'trước': 743, 'đáng': 744, 'ông': 745, 'thiếu': 746, 'nướng': 747, 'tăng': 748, 'vé': 749, 'em': 750, 'tốn': 751, 'cua': 752, 'đoạn': 753, 'đằng': 754, 'rùa': 755, 'hòa': 756, 'đồng': 757, 'đếm': 758, 'ngón': 759, 'tiên': 760, 'rõ': 761, 'vivo': 762, 'city': 763, 'tết': 764, 'xuống': 765, 'miền': 766, 'tây': 767, 'bà': 768, 'gửi': 769, 'mạy': 770, 'quân': 771, 'sẵn': 772, 'chừng': 773, 'thưởng': 774, 'máy': 775, 'vua': 776, 'dĩ': 777, 'rưỡi': 778, 'sàng': 779, 'co': 780, 'tuyệt': 781, 'dành': 782, 'thanh': 783, 'xuân': 784, 'hề': 785, 'vè': 786, 'thấp': 787, 'mập': 788, 'ốm': 789, 'đỡ': 790, 'xung': 791, 'khăn': 792, 'xài': 793, 'vân': 794, 'dàng': 795, 'quý': 796, 'điên': 797, 'khùng': 798, 'đám': 799, 'đạt': 800, 'bạn': 801, 'nhất': 802, 'của': 803, 'lợi': 804, 'dụng': 805, 'xám': 806, 'dùng': 807, 'toán': 808, 'khả': 809, 'trả': 810, 'ràng': 811, 'buộc': 812, 'bởi': 813, 'hãy': 814, 'sử': 815, 'sức': 816, 'ban': 817, 'chí': 818, 'dưới': 819, 'dân': 820, 'ghê': 821, 'nhơn': 822, 'khỏi': 823, 'rộng': 824, 'niệm': 825, 'code': 826, 'hân': 827, 'tùng': 828, 'quản': 829, 'doanh': 830, 'trầm': 831, 'lạc': 832, 'cũ': 833, '4': 834, 'khang': 835, 'tụ': 836, 'ton': 837, 'lộc': 838, 'đa': 839, 'phạm': 840, 'to': 841, 'uy': 842, 'tín': 843, 'thằng': 844, 'chill': 845, 'tí': 846, 'lùn': 847, 'gầy': 848, 'kê': 849, 'nạn': 850, 'giỡn': 851, 'nhây': 852, 'riêng': 853, 'mặc': 854, 'kệ': 855, 'thiên': 856, 'hạ': 857, 'nuôi': 858, 'cưng': 859, 'đoán': 860, 'mau': 861, 'phong': 862, 'dạy': 863, 'dơ': 864, 'nhậu': 865, 'hàng': 866, 'hông': 867, 'ma': 868, 'ko': 869, 'cứu': 870, 'nhập': 871, 'ngôn': 872, 'ngữ': 873, 'vâng': 874, 'thầy': 875, 'cường': 876, 'gà': 877, 'trứng': 878, 'chai': 879, 'đổ': 880, 'chiếc': 881, 'ly': 882, 'hóa': 883, 'trái': 884, 'đất': 885, 'chiều': 886, 'vũ': 887, 'cơm': 888, 'duyên': 889, 'nguyện': 890, 'tiện': 891, 'sạch': 892, 'khách': 893, 'chim': 894, 'chị': 895, 'chuyển': 896, 'okie': 897, 'what': 898, 'quần': 899, 'sai': 900, 'tổng': 901, 'cầu': 902, 'thang': 903, 'đau': 904, 'ô': 905, 'tô': 906, 'hãng': 907, 'màu': 908, 'siêu': 909, 'sa': 910, '20': 911, 'full': 912, 'triệu': 913, 'of': 914, 'bảy': 915, 'khổ': 916, 'nghĩa': 917, 'tồn': 918, 'nlp': 919, 'đòi': 920, 'lựa': 921, 'bot': 922, 'ngu': 923, 'biến': 924, 'triển': 925, 'chú': 926, 'bán': 927, 'le': 928, 'trống': 929, 'thổi': 930, 'tò': 931, 'te': 932, 'ổng': 933, 'viết': 934, 'tai': 935, 'chẳng': 936, 'hạn': 937, 'c': 938, 'thủ': 939, 'đội': 940, '80': 941, 'nguyễn': 942, 'trãi': 943, 'hi': 944, 'vọng': 945, 'xíu': 946, 'lừa': 947, 'đảo': 948, 'rằng': 949, 'trận': 950, 'dù': 951, 'ồ': 952, 'trinh': 953, 'thu': 954, 'bất': 955, 'axit': 956, 'quỳ': 957, 'tím': 958, 'tác': 959, 'chứng': 960, 'tam': 961, 'vuông': 962, 'thặng': 963, 'dư': 964, 'tư': 965, 'm': 966, 'thuê': 967, 'đo': 968, 'tích': 969, 'soạn': 970, 'bền': 971, 'xóm': 972, 'sửa': 973, 'web': 974, 'hư': 975, 'apple': 976, 'iphone': 977, 'mục': 978, 'đích': 979, 'kỹ': 980, 'diễn': 981, 'hot': 982, 'vời': 983, 'giả': 984, 'cắm': 985, 'sừng': 986, 'sòng': 987, 'trang': 988, 'mong': 989, 'miêu': 990, 'tả': 991, 'việt': 992, 'cổ': 993, 'chớ': 994, 'kẹt': 995, 'đầy': 996, 'kêu': 997, 'ví': 998, 'dụ': 999, 'lọ': 1000, 'dung': 1001, 'nhãn': 1002, '9': 1003, 'chào': 1004, 'môi': 1005, 'cha': 1006, 'núi': 1007, 'sơn': 1008, 'lượng': 1009, 'phân': 1010, 'nóng': 1011, 'ngân': 1012, 'âm': 1013, 'chữ': 1014, 'nẵng': 1015, 'hoàn': 1016, 'chuyến': 1017, 'bay': 1018, 'vũng': 1019, 'tàu': 1020, 'vùng': 1021, 'lung': 1022, 'áo': 1023, 'tắm': 1024, 'mùng': 1025, 'giang': 1026, 'mùa': 1027, 'sang': 1028, 'mỹ': 1029, 'cảnh': 1030, 'noel': 1031, '2020': 1032, 'vừa': 1033, 'chụp': 1034, 'sapa': 1035, 'lạnh': 1036, 'vãi': 1037, 'tour': 1038, 'quốc': 1039, 'khánh': 1040, 'dắt': 1041, 'dị': 1042, 'bé': 1043, 'thăm': 1044, 'sông': 1045, 'chốt': 1046, 'kèo': 1047, 'đợt': 1048, 'bắc': 1049, 'ha': 1050, 'bùng': 1051, 'chế': 1052, 'ty': 1053, 'dương': 1054, 'ơ': 1055, '6': 1056, 'đặt': 1057, '30': 1058, 'trại': 1059, 'khong': 1060, 'quang': 1061, 'thuộc': 1062, '2021': 1063, 'phan': 1064, 'oh': 1065, 'hmm': 1066, 'check': 1067, 'xã': 1068, 'review': 1069, 'haha': 1070, 'tránh': 1071, 'chùa': 1072, 'vịnh': 1073, 'tháp': 1074, 'khoản': 1075, 'xếp': 1076, 'phiền': 1077, 'kịp': 1078, 'mãi': 1079, 'khôngmình': 1080, 'tiệc': 1081, 'vị': 1082, 'kéo': 1083, 'toi': 1084, 'muon': 1085, 'tim': 1086, 'noi': 1087, 'di': 1088, 'la': 1089, 'nhu': 1090, 'nao': 1091, 'nghi': 1092, 'dau': 1093, 'dang': 1094, 'o': 1095, 'tp': 1096, 'ho': 1097, 'trình': 1098, 'tục': 1099, 'gồm': 1100, '25': 1101, 'sớm': 1102, 'mầy': 1103, 'sản': 1104, 'ốc': 1105, 'ninh': 1106, 'phú': 1107, 'tết': 1108, 'này': 1109, 'vậy': 1110, 'đẹp': 1111, 'ạ': 1112, 'mọi': 1113, 'sắp': 1114, 'rồi': 1115, 'ở': 1116, 'mày': 1117, 'lắm': 1118, 'trắng': 1119, 'đón': 1120, 'hấp': 1121, 'tphcm': 1122, 'km': 1123, 'mẻ': 1124, 'quảng': 1125, 'hỏi': 1126, 'hà': 1127, 'nội': 1128, 'phải': 1129, 'đến': 1130, 'ngủ': 1131, 'giờ': 1132, 'xác': 1133, 'rượu': 1134, 'chợ': 1135, 'hát': 1136, 'hiếu': 1137, 'tốc': 1138, 'danh': 1139, 'dạ': 1140, '200': 1141, 'hải': 1142, 'bún': 1143, 'đậu': 1144, 'cố': 1145, 'bến': 1146, 'tre': 1147, 'kẹo': 1148, 'dừa': 1149, 'bố': 1150, 'kính': 1151, 'đức': 1152, 'gốc': 1153, 'hủ': 1154, 'tiếu': 1155, 'ngay': 1156, 'khu': 1157, 'ngãi': 1158, 'vĩnh': 1159, '132': 1160, 'vinh': 1161, 'mắm': 1162, 'google': 1163, 'trọ': 1164, 'thuận': 1165, 'căn': 1166, 'hcm': 1167, 'thịt': 1168, 'bò': 1169, 'mì': 1170, 'thắng': 1171, 'đầm': 1172, 'sen': 1173, 'nằm': 1174, 'tòa': 1175, 'vàng': 1176, 'xứ': 1177, 'voi': 1178, 'thị': 1179, 'nông': 1180, 'tân': 1181, 'đào': 1182, 'cấm': 1183, 'chúc': 1184, 'căng': 1185, 'khúc': 1186, 'lê': 1187, 'lương': 1188, '40': 1189, 'gò': 1190, 'buýt': 1191, 'sư': 1192, 'thảo': 1193, '50': 1194, 'bida': 1195, 'nghề': 1196, 'y': 1197, 'trợ': 1198, 'tịch': 1199, 'fpt': 1200, 'software': 1201, 'ruột': 1202, 'họp': 1203, 'đình': 1204, 'sống': 1205, 'tiền': 1206, 'đóng': 1207, 'vợ': 1208, 'ngọc': 1209, 'hoàng': 1210, 'giám': 1211, '18': 1212, 'shop': 1213, 'buôn': 1214, 'anhchị': 1215, '21': 1216, 'má': 1217, 'cháu': 1218, 'tài': 1219, '16': 1220, 'nhe': 1221, 'chồng': 1222, 'marvel': 1223, 'viễn': 1224, 'thần': 1225, 'thịnh': 1226, 'bổng': 1227, 'nãy': 1228, 'gay': 1229, 'cấn': 1230, 'hộp': 1231, 'hùng': 1232, 'okay': 1233, 'bhd': 1234, 'tấn': 1235, 'no': 1236, 'trở': 1237, 'hữu': 1238, 'lười': 1239, 'trễ': 1240, 'càng': 1241, 'cổng': 1242, 'lotte': 1243, 'vương': 1244, 'bắp': 1245, 'rang': 1246, 'combo': 1247, 'film': 1248, '^^': 1249, 'dọn': 1250, 'dẹp': 1251, 'cửa': 1252, '22': 1253, 'quy': 1254, 'biên': 1255, 'thẻ': 1256, 'tạm': 1257, 'mức': 1258, 'nghìn': 1259, 'lầu': 1260, 'online': 1261, '7h': 1262, 'khóa': 1263, 'lướt': 1264, 'offline': 1265, 'space': 1266, 'khám': 1267, 'phá': 1268, 'quỹ': 1269, 'đạo': 1270, 'màn': 1271, 'diện': 1272, 'săn': 1273, 'cầm': 1274, 'xuất': 1275, '7h30': 1276, 'suất': 1277, 'đảm': 1278, 'đắt': 1279, 'giảm': 1280, 'sướng': 1281, 'hâm': 1282, 'mộ': 1283, 'hihi': 1284, 'ă': 1285, 'duyệt': 1286, 'cresent': 1287, 'mall': 1288, 'vấp': 1289, 'you': 1290, 'hàn': 1291, 'hoà': 1292, 'thấy': 1293, 'cặp': 1294, 'mềm': 1295, 'chương': 1296, 'xứng': 1297, 'gắng': 1298, 'rớt': 1299, 'nợ': 1300, 'bự': 1301, 'top': 1302, 'dinh': 1303, 'lưu': 1304, 'nghành': 1305, '19': 1306, 'thọ': 1307, 'học': 1308, 'sơ': 1309, 'it': 1310, 'kiểm': 1311, 'tra': 1312, 'đh': 1313, 'hiệu': 1314, 'tdt': 1315, 'thạnh': 1316, 'mã': 1317, 'khai': 1318, 'giảng': 1319, 'stress': 1320, 'team': 1321, 'dược': 1322, 'vất': 1323, 'vả': 1324, 'd': 1325, 'hên': 1326, 'tdtu': 1327, 'nope': 1328, 'tầng': 1329, 'sếp': 1330, 'giày': 1331, 'marketing': 1332, 'nhánh': 1333, 'khuya': 1334, 'phái': 1335, 'ừa': 1336, 'a': 1337, 'cận': 1338, 'tuyển': 1339, 'mảng': 1340, 'mật': 1341, 'rửa': 1342, 'việc': 1343, 'hiện': 1344, 'tại': 1345, 'bí': 1346, 'gấp': 1347, 'da': 1348, 'đô': 1349, 'vụ': 1350, 'tỷ': 1351, 'sân': 1352, 'cún': 1353, 'bạ': 1354, 'đàng': 1355, 'chổ': 1356, '100': 1357, 'án': 1358, 'hỗ': 1359, 'nặng': 1360, '14': 1361, 'lì': 1362, 'xì': 1363, '304': 1364, 'sóng': 1365, 'kho': 1366, 'covid': 1367, 'dòng': 1368, 'thừa': 1369, '29': 1370, 'bông': 1371, 'ngày': 1372, 'về': 1373, 'giá': 1374, 'nhà': 1375, 'hãy': 1376, 'cãi': 1377, 'yep': 1378, 'dỗ': 1379, 'tộc': 1380, 'lát': 1381, 'nguồn': 1382, 'duy': 1383, 'or': 1384, 'riêu': 1385, 'lộ': 1386, 'tiếc': 1387, 'nghèo': 1388, 'cân': 1389, 'nhĩ': 1390, 'thua': 1391, 'n': 1392, 'thì': 1393, 'robot': 1394, 'thể': 1395, 'đố': 1396, 'vịt': 1397, 'gió': 1398, 'ướt': 1399, 'lục': 1400, 'bịch': 1401, 'pizza': 1402, 'phép': 1403, 'giặt': 1404, 'cung': 1405, 'cánh': 1406, 'hạng': 1407, 'cấu': 1408, 'khối': 1409, 'trúng': 1410, 'search': 1411, 'thoáng': 1412, 'quay': 1413, 'tán': 1414, 'book': 1415, 'cập': 1416, 'shopee': 1417, 'chăng': 1418, 'laptop': 1419, 'ghé': 1420, 'gearvn': 1421, 'samsung': 1422, 'nâng': 1423, 'ram': 1424, 'vải': 1425, 'size': 1426, 's': 1427, 's20': 1428, 'jean': 1429, 'thun': 1430, 'mi': 1431, 'uniqlo': 1432, 'khuyến': 1433, 'sạc': 1434, 'l': 1435, 'xl': 1436, 'sale': 1437, 'android': 1438, 'ưu': 1439, 'macbook': 1440, 'ngàn': 1441, '1m7': 1442, '63': 1443, 'kg': 1444, 'ship': 1445, 'pro': 1446, 'ưng': 1447, '128gb': 1448, 'váy': 1449, 'buffet': 1450, 'card': 1451, 'trâu': 1452, 'máy': 1453, 'asus': 1454, 'hợp': 1455, 'áo': 1456, 'polo': 1457, 'trường': 1458, 'adidas': 1459, 'nike': 1460, 'tiki': 1461, 'gaming': 1462, 'msi': 1463, 'acer': 1464, 'dell': 1465, '8gb': 1466, 'ssd': 1467, 'dép': 1468, 'âu': 1469, 'lazada': 1470, 'phông': 1471, 'dạng': 1472, 'cỡ': 1473, 'core': 1474, 'tr': 1475, 'sơmi': 1476, 'f': 1477, 'phối': 1478, 'dao': 1479, 'túi': 1480, 'ngôi': 1481, 'xá': 1482, 'budget': 1483, 'ổ': 1484, 'bus': 1485, 'yame': 1486, '200k': 1487, 'phở': 1488, 'lông': 1489, 'sổ': 1490, 'clb': 1491, 'huy': 1492, 'ích': 1493, 'yes': 1494, 'ktx': 1495, 'túc': 1496, 'toeic': 1497, 'tđt': 1498, 'phòng': 1499, 'trú': 1500, 'i': 1501, 'h': 1502, 'nai': 1503, 'mart': 1504, 'ruộng': 1505, 'lội': 1506, 'wifi': 1507, 'chuỗi': 1508, 'quầy': 1509, 'cư': 1510, 'trần': 1511, '1999': 1512, 'hưng': 1513, 'tròn': 1514, '1m8': 1515, '2001': 1516, '2000': 1517, 'máu': 1518, 'bảnh': 1519, '52': 1520, 'thụy': 1521, 'đỗ': 1522, '70kg': 1523, 'kfc': 1524, 'aka': 1525, 'khẩu': 1526, 'rán': 1527, 'cay': 1528, 'thèm': 1529, 'bia': 1530, 'chè': 1531, 'shushi': 1532, 'gấu': 1533, 'nhạt': 1534, 'hã': 1535, 'dằn': 1536, 'rút': 1537, 'lam': 1538, 'huế': 1539, 'que': 1540, 'huong': 1541, 'cọc': 1542, 'ghép': 1543, 'bả': 1544, '<unk>': 1545, '<start>': 1546, '<end>': 1547, '<pad>': 0}\n"
     ]
    }
   ],
   "source": [
    "# Create word mapp\n",
    "min_word_freq = 3\n",
    "words = [w for w in word_freq.keys() if word_freq[w] > min_word_freq]\n",
    "word_map = {k: v + 1 for v, k in enumerate(words)}\n",
    "word_map['<unk>'] = len(word_map) + 1\n",
    "word_map['<start>'] = len(word_map) + 1\n",
    "word_map['<end>'] = len(word_map) + 1\n",
    "word_map['<pad>'] = 0\n",
    "\n",
    "print(\"Total words are: {}\".format(len(word_map)))\n",
    "print(word_map)\n",
    "with open('WORDMAP_corpus.json', 'w') as j:\n",
    "    json.dump(word_map, j)"
   ]
  },
  {
   "cell_type": "code",
   "execution_count": 56,
   "id": "238202aa",
   "metadata": {},
   "outputs": [
    {
     "name": "stdout",
     "output_type": "stream",
     "text": [
      "[[[1, 2, 1545, 3, 0, 0, 0, 0, 0, 0, 0, 0, 0, 0, 0, 0, 0, 0, 0, 0, 0, 0, 0, 0, 0], [1546, 4, 1545, 5, 1547, 0, 0, 0, 0, 0, 0, 0, 0, 0, 0, 0, 0, 0, 0, 0, 0, 0, 0, 0, 0]], [[1545, 1545, 3, 0, 0, 0, 0, 0, 0, 0, 0, 0, 0, 0, 0, 0, 0, 0, 0, 0, 0, 0, 0, 0, 0], [1546, 1545, 1545, 6, 7, 8, 1547, 0, 0, 0, 0, 0, 0, 0, 0, 0, 0, 0, 0, 0, 0, 0, 0, 0, 0]], [[9, 10, 1545, 3, 0, 0, 0, 0, 0, 0, 0, 0, 0, 0, 0, 0, 0, 0, 0, 0, 0, 0, 0, 0, 0], [1546, 9, 11, 12, 13, 1547, 0, 0, 0, 0, 0, 0, 0, 0, 0, 0, 0, 0, 0, 0, 0, 0, 0, 0, 0]]]\n"
     ]
    }
   ],
   "source": [
    "#Create pairs_encoded of questions and answer with padding\n",
    "max_len =25\n",
    "def encode_question(words, word_map):\n",
    "    enc_c = [word_map.get(word, word_map['<unk>']) for word in words] + [word_map['<pad>']] * (max_len - len(words))\n",
    "    return enc_c\n",
    "\n",
    "\n",
    "def encode_reply(words, word_map):\n",
    "    enc_c = [word_map['<start>']] + [word_map.get(word, word_map['<unk>']) for word in words] + [word_map['<end>']] + [word_map['<pad>']] * (max_len - len(words)-2)\n",
    "    return enc_c\n",
    "\n",
    "pairs_encoded = []\n",
    "for i in range(len(questions)):\n",
    "    qus = encode_question(questionsSegments[i], word_map)\n",
    "    ans = encode_reply(answerSegments[i], word_map)\n",
    "    pairs_encoded.append([qus, ans])\n",
    "\n",
    "print(pairs_encoded[:3])\n",
    "with open('pairs_encoded.json', 'w') as p:\n",
    "    json.dump(pairs_encoded, p)"
   ]
  },
  {
   "cell_type": "code",
   "execution_count": 57,
   "id": "720c61fa",
   "metadata": {},
   "outputs": [],
   "source": [
    "import torch\n",
    "import torch.nn as nn\n",
    "from torch.utils.data import Dataset\n",
    "import torch.utils.data\n",
    "import math\n",
    "import torch.nn.functional as F"
   ]
  },
  {
   "cell_type": "code",
   "execution_count": 58,
   "id": "a180c008",
   "metadata": {},
   "outputs": [],
   "source": [
    "#Embedding and Positional encoding\n",
    "class Embeddings(nn.Module):\n",
    "    \"\"\"\n",
    "    Implements embeddings of the words and adds their positional encodings. \n",
    "    \"\"\"\n",
    "    def __init__(self, vocab_size, d_model, max_len = 50):\n",
    "        super(Embeddings, self).__init__()\n",
    "        self.d_model = d_model\n",
    "        self.dropout = nn.Dropout(0.1)\n",
    "        self.embed = nn.Embedding(vocab_size, d_model)\n",
    "        self.pe = self.create_positinal_encoding(max_len, self.d_model)\n",
    "        self.dropout = nn.Dropout(0.1)\n",
    "        \n",
    "    def create_positinal_encoding(self, max_len, d_model):\n",
    "        pe = torch.zeros(max_len, d_model).to(device)\n",
    "        for pos in range(max_len):   # for each position of the word\n",
    "            for i in range(0, d_model, 2):   # for each dimension of the each position\n",
    "                pe[pos, i] = math.sin(pos / (10000 ** ((2 * i)/d_model)))\n",
    "                pe[pos, i + 1] = math.cos(pos / (10000 ** ((2 * (i + 1))/d_model)))\n",
    "        pe = pe.unsqueeze(0)   # include the batch size\n",
    "        return pe\n",
    "        \n",
    "    def forward(self, encoded_words):\n",
    "        embedding = self.embed(encoded_words) * math.sqrt(self.d_model)\n",
    "        embedding += self.pe[:, :embedding.size(1)]   # pe will automatically be expanded with the same batch size as encoded_words\n",
    "        embedding = self.dropout(embedding)\n",
    "        return embedding"
   ]
  },
  {
   "cell_type": "code",
   "execution_count": 59,
   "id": "a3ddd231",
   "metadata": {},
   "outputs": [],
   "source": [
    "class MultiHeadAttention(nn.Module):\n",
    "    \n",
    "    def __init__(self, heads, d_model):\n",
    "        \n",
    "        super(MultiHeadAttention, self).__init__()\n",
    "        assert d_model % heads == 0\n",
    "        self.d_k = d_model // heads\n",
    "        self.heads = heads\n",
    "        self.dropout = nn.Dropout(0.1)\n",
    "        self.query = nn.Linear(d_model, d_model)\n",
    "        self.key = nn.Linear(d_model, d_model)\n",
    "        self.value = nn.Linear(d_model, d_model)\n",
    "        self.concat = nn.Linear(d_model, d_model)\n",
    "        \n",
    "    def forward(self, query, key, value, mask):\n",
    "        \"\"\"\n",
    "        query, key, value of shape: (batch_size, max_len, 512)\n",
    "        mask of shape: (batch_size, 1, 1, max_words)\n",
    "        \"\"\"\n",
    "        # (batch_size, max_len, 512)\n",
    "        query = self.query(query)\n",
    "        key = self.key(key)        \n",
    "        value = self.value(value)   \n",
    "        \n",
    "        # (batch_size, max_len, 512) --> (batch_size, max_len, h, d_k) --> (batch_size, h, max_len, d_k)\n",
    "        query = query.view(query.shape[0], -1, self.heads, self.d_k).permute(0, 2, 1, 3)   \n",
    "        key = key.view(key.shape[0], -1, self.heads, self.d_k).permute(0, 2, 1, 3)  \n",
    "        value = value.view(value.shape[0], -1, self.heads, self.d_k).permute(0, 2, 1, 3)  \n",
    "        \n",
    "        # (batch_size, h, max_len, d_k) matmul (batch_size, h, d_k, max_len) --> (batch_size, h, max_len, max_len)\n",
    "        scores = torch.matmul(query, key.permute(0,1,3,2)) / math.sqrt(query.size(-1))\n",
    "        scores = scores.masked_fill(mask == 0, -1e9)    # (batch_size, h, max_len, max_len)\n",
    "        weights = F.softmax(scores, dim = -1)           # (batch_size, h, max_len, max_len)\n",
    "        weights = self.dropout(weights)\n",
    "        # (batch_size, h, max_len, max_len) matmul (batch_size, h, max_len, d_k) --> (batch_size, h, max_len, d_k)\n",
    "        context = torch.matmul(weights, value)\n",
    "        # (batch_size, h, max_len, d_k) --> (batch_size, max_len, h, d_k) --> (batch_size, max_len, h * d_k)\n",
    "        context = context.permute(0,2,1,3).contiguous().view(context.shape[0], -1, self.heads * self.d_k)\n",
    "        # (batch_size, max_len, h * d_k)\n",
    "        interacted = self.concat(context)\n",
    "        return interacted "
   ]
  },
  {
   "cell_type": "code",
   "execution_count": 60,
   "id": "54f8cb6e",
   "metadata": {},
   "outputs": [],
   "source": [
    "import torch.nn.functional as F\n",
    "class FeedForward(nn.Module):\n",
    "\n",
    "    def __init__(self, d_model, middle_dim = 2048):\n",
    "        super(FeedForward, self).__init__()\n",
    "        \n",
    "        self.fc1 = nn.Linear(d_model, middle_dim)\n",
    "        self.fc2 = nn.Linear(middle_dim, d_model)\n",
    "        self.dropout = nn.Dropout(0.1)\n",
    "\n",
    "    def forward(self, x):\n",
    "        out = F.relu(self.fc1(x))\n",
    "        out = self.fc2(self.dropout(out))\n",
    "        return out"
   ]
  },
  {
   "cell_type": "code",
   "execution_count": 61,
   "id": "d08d19d2",
   "metadata": {},
   "outputs": [],
   "source": [
    "class EncoderLayer(nn.Module):\n",
    "\n",
    "    def __init__(self, d_model, heads):\n",
    "        super(EncoderLayer, self).__init__()\n",
    "        self.layernorm = nn.LayerNorm(d_model)\n",
    "        self.self_multihead = MultiHeadAttention(heads, d_model)\n",
    "        self.feed_forward = FeedForward(d_model)\n",
    "        self.dropout = nn.Dropout(0.1)\n",
    "\n",
    "    def forward(self, embeddings, mask):\n",
    "        interacted = self.dropout(self.self_multihead(embeddings, embeddings, embeddings, mask))\n",
    "        interacted = self.layernorm(interacted + embeddings)\n",
    "        feed_forward_out = self.dropout(self.feed_forward(interacted))\n",
    "        encoded = self.layernorm(feed_forward_out + interacted)\n",
    "        return encoded"
   ]
  },
  {
   "cell_type": "code",
   "execution_count": 62,
   "id": "a12a30ce",
   "metadata": {},
   "outputs": [],
   "source": [
    "class DecoderLayer(nn.Module):\n",
    "    \n",
    "    def __init__(self, d_model, heads):\n",
    "        super(DecoderLayer, self).__init__()\n",
    "        self.layernorm = nn.LayerNorm(d_model)\n",
    "        self.self_multihead = MultiHeadAttention(heads, d_model)\n",
    "        self.src_multihead = MultiHeadAttention(heads, d_model)\n",
    "        self.feed_forward = FeedForward(d_model)\n",
    "        self.dropout = nn.Dropout(0.1)\n",
    "        \n",
    "    def forward(self, embeddings, encoded, src_mask, target_mask):\n",
    "        query = self.dropout(self.self_multihead(embeddings, embeddings, embeddings, target_mask))\n",
    "        query = self.layernorm(query + embeddings)\n",
    "        interacted = self.dropout(self.src_multihead(query, encoded, encoded, src_mask))\n",
    "        interacted = self.layernorm(interacted + query)\n",
    "        feed_forward_out = self.dropout(self.feed_forward(interacted))\n",
    "        decoded = self.layernorm(feed_forward_out + interacted)\n",
    "        return decoded"
   ]
  },
  {
   "cell_type": "code",
   "execution_count": 63,
   "id": "8af34c0d",
   "metadata": {},
   "outputs": [],
   "source": [
    "class Transformer(nn.Module):\n",
    "    \n",
    "    def __init__(self, d_model, heads, num_layers, word_map):\n",
    "        super(Transformer, self).__init__()\n",
    "        \n",
    "        self.d_model = d_model\n",
    "        self.vocab_size = len(word_map)\n",
    "        self.embed = Embeddings(self.vocab_size, d_model)\n",
    "        self.encoder = nn.ModuleList([EncoderLayer(d_model, heads) for _ in range(num_layers)])\n",
    "        self.decoder = nn.ModuleList([DecoderLayer(d_model, heads) for _ in range(num_layers)])\n",
    "        self.logit = nn.Linear(d_model, self.vocab_size)\n",
    "        \n",
    "    def encode(self, src_words, src_mask):\n",
    "        src_embeddings = self.embed(src_words)\n",
    "        for layer in self.encoder:\n",
    "            src_embeddings = layer(src_embeddings, src_mask)\n",
    "        return src_embeddings\n",
    "    \n",
    "    def decode(self, target_words, target_mask, src_embeddings, src_mask):\n",
    "        tgt_embeddings = self.embed(target_words)\n",
    "        for layer in self.decoder:\n",
    "            tgt_embeddings = layer(tgt_embeddings, src_embeddings, src_mask, target_mask)\n",
    "        return tgt_embeddings\n",
    "        \n",
    "    def forward(self, src_words, src_mask, target_words, target_mask):\n",
    "        encoded = self.encode(src_words, src_mask)\n",
    "        decoded = self.decode(target_words, target_mask, encoded, src_mask)\n",
    "        out = F.log_softmax(self.logit(decoded), dim = 2)\n",
    "        return out"
   ]
  },
  {
   "cell_type": "code",
   "execution_count": 64,
   "id": "ef7241de",
   "metadata": {},
   "outputs": [],
   "source": [
    "device = torch.device(\"cuda\" if torch.cuda.is_available() else \"cpu\")\n",
    "\n",
    "class Dataset(Dataset):\n",
    "\n",
    "    def __init__(self):\n",
    "\n",
    "        self.pairs = json.load(open('pairs_encoded.json'))\n",
    "        self.dataset_size = len(self.pairs)\n",
    "\n",
    "    def __getitem__(self, i):\n",
    "        \n",
    "        question = torch.LongTensor(self.pairs[i][0])\n",
    "        reply = torch.LongTensor(self.pairs[i][1])\n",
    "            \n",
    "        return question, reply\n",
    "\n",
    "    def __len__(self):\n",
    "        return self.dataset_size"
   ]
  },
  {
   "cell_type": "code",
   "execution_count": 100,
   "id": "a85ab8c7",
   "metadata": {},
   "outputs": [],
   "source": [
    "train_loader = torch.utils.data.DataLoader(Dataset(),\n",
    "                                           batch_size = 15, \n",
    "                                           shuffle=True, \n",
    "                                           pin_memory=True)\n"
   ]
  },
  {
   "cell_type": "code",
   "execution_count": 101,
   "id": "f1fbc0e6",
   "metadata": {},
   "outputs": [],
   "source": [
    "def create_masks(question, reply_input, reply_target):\n",
    "    \n",
    "    def subsequent_mask(size):\n",
    "        mask = torch.triu(torch.ones(size, size)).transpose(0, 1).type(dtype=torch.uint8)\n",
    "        return mask.unsqueeze(0)\n",
    "    \n",
    "    question_mask = question!=0\n",
    "    question_mask = question_mask.to(device)\n",
    "    question_mask = question_mask.unsqueeze(1).unsqueeze(1)         # (batch_size, 1, 1, max_words)\n",
    "     \n",
    "    reply_input_mask = reply_input!=0\n",
    "    reply_input_mask = reply_input_mask.unsqueeze(1)  # (batch_size, 1, max_words)\n",
    "    reply_input_mask = reply_input_mask & subsequent_mask(reply_input.size(-1)).type_as(reply_input_mask.data) \n",
    "    reply_input_mask = reply_input_mask.unsqueeze(1) # (batch_size, 1, max_words, max_words)\n",
    "    reply_target_mask = reply_target!=0              # (batch_size, max_words)\n",
    "    \n",
    "    return question_mask, reply_input_mask, reply_target_mask"
   ]
  },
  {
   "cell_type": "code",
   "execution_count": 102,
   "id": "bf192a6e",
   "metadata": {},
   "outputs": [],
   "source": [
    "class AdamWarmup:\n",
    "    \n",
    "    def __init__(self, model_size, warmup_steps, optimizer):\n",
    "        \n",
    "        self.model_size = model_size\n",
    "        self.warmup_steps = warmup_steps\n",
    "        self.optimizer = optimizer\n",
    "        self.current_step = 0\n",
    "        self.lr = 0\n",
    "        \n",
    "    def get_lr(self):\n",
    "        return self.model_size ** (-0.5) * min(self.current_step ** (-0.5), self.current_step * self.warmup_steps ** (-1.5))\n",
    "        \n",
    "    def step(self):\n",
    "        # Increment the number of steps each time we call the step function\n",
    "        self.current_step += 1\n",
    "        lr = self.get_lr()\n",
    "        for param_group in self.optimizer.param_groups:\n",
    "            param_group['lr'] = lr\n",
    "        # update the learning rate\n",
    "        self.lr = lr\n",
    "        self.optimizer.step()  "
   ]
  },
  {
   "cell_type": "code",
   "execution_count": 106,
   "id": "b04102cb",
   "metadata": {},
   "outputs": [],
   "source": [
    "class LossWithLS(nn.Module):\n",
    "\n",
    "    def __init__(self, size, smooth):\n",
    "        super(LossWithLS, self).__init__()\n",
    "        self.criterion = nn.KLDivLoss(reduction='none')\n",
    "        self.confidence = 1.0 - smooth\n",
    "        self.smooth = smooth\n",
    "        self.size = size\n",
    "        \n",
    "    def forward(self, prediction, target, mask):\n",
    "        \"\"\"\n",
    "        prediction of shape: (batch_size, max_words, vocab_size)\n",
    "        target and mask of shape: (batch_size, max_words)\n",
    "        \"\"\"\n",
    "        prediction = prediction.view(-1, prediction.size(-1))   # (batch_size * max_words, vocab_size)\n",
    "        target = target.contiguous().view(-1)   # (batch_size * max_words)\n",
    "        mask = mask.float()\n",
    "        mask = mask.view(-1)       # (batch_size * max_words)\n",
    "        labels = prediction.data.clone()\n",
    "        labels.fill_(self.smooth / (self.size - 1))\n",
    "        labels.scatter_(1, target.data.unsqueeze(1), self.confidence)\n",
    "        loss = self.criterion(prediction, labels)    # (batch_size * max_words, vocab_size)\n",
    "        loss = (loss.sum(1) * mask).sum() / mask.sum()\n",
    "        return loss"
   ]
  },
  {
   "cell_type": "code",
   "execution_count": 107,
   "id": "92ad1c6d",
   "metadata": {},
   "outputs": [],
   "source": [
    "d_model = 512\n",
    "heads = 8\n",
    "num_layers = 3\n",
    "device = torch.device(\"cuda\" if torch.cuda.is_available() else \"cpu\")\n",
    "epochs = 10\n",
    "\n",
    "with open('WORDMAP_corpus.json', 'r') as j:\n",
    "    word_map = json.load(j)\n",
    "    \n",
    "transformer = Transformer(d_model = d_model, heads = heads, num_layers = num_layers, word_map = word_map)\n",
    "transformer = transformer.to(device)\n",
    "adam_optimizer = torch.optim.Adam(transformer.parameters(), lr=0, betas=(0.9, 0.98), eps=1e-9)\n",
    "transformer_optimizer = AdamWarmup(model_size = d_model, warmup_steps = 4000, optimizer = adam_optimizer)\n",
    "criterion = LossWithLS(len(word_map), 0.1)"
   ]
  },
  {
   "cell_type": "code",
   "execution_count": 30,
   "id": "8bb1cb78",
   "metadata": {},
   "outputs": [],
   "source": [
    "def train(train_loader, transformer, criterion, epoch):\n",
    "    \n",
    "    transformer.train()\n",
    "    sum_loss = 0\n",
    "    count = 0\n",
    "    \n",
    "    for i, (question, reply) in enumerate(train_loader):\n",
    "        print(train_loader.question)\n",
    "        samples = question.shape[0]\n",
    "\n",
    "        # Move to device\n",
    "        question = question.to(device)\n",
    "        reply = reply.to(device)\n",
    "\n",
    "        # Prepare Target Data\n",
    "        reply_input = reply[:, :-1]\n",
    "        reply_target = reply[:, 1:]\n",
    "\n",
    "        # Create mask and add dimensions\n",
    "        question_mask, reply_input_mask, reply_target_mask = create_masks(question, reply_input, reply_target)\n",
    "\n",
    "        # Get the transformer outputs\n",
    "        out = transformer(question, question_mask, reply_input, reply_input_mask)\n",
    "\n",
    "        # Compute the loss\n",
    "        loss = criterion(out, reply_target, reply_target_mask)\n",
    "        \n",
    "        # Backprop\n",
    "        transformer_optimizer.optimizer.zero_grad()\n",
    "        loss.backward()\n",
    "        transformer_optimizer.step()\n",
    "        \n",
    "        sum_loss += loss.item() * samples\n",
    "        count += samples\n",
    "        \n",
    "        if i % 100 == 0:\n",
    "            print(\"Epoch [{}][{}/{}]\\tLoss: {:.3f}\".format(epoch, i, len(train_loader), sum_loss/count))"
   ]
  },
  {
   "cell_type": "code",
   "execution_count": 31,
   "id": "b6c79620",
   "metadata": {},
   "outputs": [
    {
     "ename": "RuntimeError",
     "evalue": "stack expects each tensor to be equal size, but got [25] at entry 0 and [93] at entry 4",
     "output_type": "error",
     "traceback": [
      "\u001b[1;31m---------------------------------------------------------------------------\u001b[0m",
      "\u001b[1;31mRuntimeError\u001b[0m                              Traceback (most recent call last)",
      "\u001b[1;32m~\\AppData\\Local\\Temp/ipykernel_608/1862101792.py\u001b[0m in \u001b[0;36m<module>\u001b[1;34m\u001b[0m\n\u001b[0;32m      1\u001b[0m \u001b[1;32mfor\u001b[0m \u001b[0mepoch\u001b[0m \u001b[1;32min\u001b[0m \u001b[0mrange\u001b[0m\u001b[1;33m(\u001b[0m\u001b[0mepochs\u001b[0m\u001b[1;33m)\u001b[0m\u001b[1;33m:\u001b[0m\u001b[1;33m\u001b[0m\u001b[1;33m\u001b[0m\u001b[0m\n\u001b[0;32m      2\u001b[0m \u001b[1;33m\u001b[0m\u001b[0m\n\u001b[1;32m----> 3\u001b[1;33m     \u001b[0mtrain\u001b[0m\u001b[1;33m(\u001b[0m\u001b[0mtrain_loader\u001b[0m\u001b[1;33m,\u001b[0m \u001b[0mtransformer\u001b[0m\u001b[1;33m,\u001b[0m \u001b[0mcriterion\u001b[0m\u001b[1;33m,\u001b[0m \u001b[0mepoch\u001b[0m\u001b[1;33m)\u001b[0m\u001b[1;33m\u001b[0m\u001b[1;33m\u001b[0m\u001b[0m\n\u001b[0m\u001b[0;32m      4\u001b[0m \u001b[1;33m\u001b[0m\u001b[0m\n\u001b[0;32m      5\u001b[0m \u001b[1;31m#     state = {'epoch': epoch, 'transformer': transformer, 'transformer_optimizer': transformer_optimizer}\u001b[0m\u001b[1;33m\u001b[0m\u001b[1;33m\u001b[0m\u001b[0m\n",
      "\u001b[1;32m~\\AppData\\Local\\Temp/ipykernel_608/1427580161.py\u001b[0m in \u001b[0;36mtrain\u001b[1;34m(train_loader, transformer, criterion, epoch)\u001b[0m\n\u001b[0;32m      5\u001b[0m     \u001b[0mcount\u001b[0m \u001b[1;33m=\u001b[0m \u001b[1;36m0\u001b[0m\u001b[1;33m\u001b[0m\u001b[1;33m\u001b[0m\u001b[0m\n\u001b[0;32m      6\u001b[0m \u001b[1;33m\u001b[0m\u001b[0m\n\u001b[1;32m----> 7\u001b[1;33m     \u001b[1;32mfor\u001b[0m \u001b[0mi\u001b[0m\u001b[1;33m,\u001b[0m \u001b[1;33m(\u001b[0m\u001b[0mquestion\u001b[0m\u001b[1;33m,\u001b[0m \u001b[0mreply\u001b[0m\u001b[1;33m)\u001b[0m \u001b[1;32min\u001b[0m \u001b[0menumerate\u001b[0m\u001b[1;33m(\u001b[0m\u001b[0mtrain_loader\u001b[0m\u001b[1;33m)\u001b[0m\u001b[1;33m:\u001b[0m\u001b[1;33m\u001b[0m\u001b[1;33m\u001b[0m\u001b[0m\n\u001b[0m\u001b[0;32m      8\u001b[0m         \u001b[0mprint\u001b[0m\u001b[1;33m(\u001b[0m\u001b[0mtrain_loader\u001b[0m\u001b[1;33m.\u001b[0m\u001b[0mquestion\u001b[0m\u001b[1;33m)\u001b[0m\u001b[1;33m\u001b[0m\u001b[1;33m\u001b[0m\u001b[0m\n\u001b[0;32m      9\u001b[0m \u001b[1;31m#         samples = question.shape[0]\u001b[0m\u001b[1;33m\u001b[0m\u001b[1;33m\u001b[0m\u001b[0m\n",
      "\u001b[1;32m~\\anaconda3\\lib\\site-packages\\torch\\utils\\data\\dataloader.py\u001b[0m in \u001b[0;36m__next__\u001b[1;34m(self)\u001b[0m\n\u001b[0;32m    519\u001b[0m             \u001b[1;32mif\u001b[0m \u001b[0mself\u001b[0m\u001b[1;33m.\u001b[0m\u001b[0m_sampler_iter\u001b[0m \u001b[1;32mis\u001b[0m \u001b[1;32mNone\u001b[0m\u001b[1;33m:\u001b[0m\u001b[1;33m\u001b[0m\u001b[1;33m\u001b[0m\u001b[0m\n\u001b[0;32m    520\u001b[0m                 \u001b[0mself\u001b[0m\u001b[1;33m.\u001b[0m\u001b[0m_reset\u001b[0m\u001b[1;33m(\u001b[0m\u001b[1;33m)\u001b[0m\u001b[1;33m\u001b[0m\u001b[1;33m\u001b[0m\u001b[0m\n\u001b[1;32m--> 521\u001b[1;33m             \u001b[0mdata\u001b[0m \u001b[1;33m=\u001b[0m \u001b[0mself\u001b[0m\u001b[1;33m.\u001b[0m\u001b[0m_next_data\u001b[0m\u001b[1;33m(\u001b[0m\u001b[1;33m)\u001b[0m\u001b[1;33m\u001b[0m\u001b[1;33m\u001b[0m\u001b[0m\n\u001b[0m\u001b[0;32m    522\u001b[0m             \u001b[0mself\u001b[0m\u001b[1;33m.\u001b[0m\u001b[0m_num_yielded\u001b[0m \u001b[1;33m+=\u001b[0m \u001b[1;36m1\u001b[0m\u001b[1;33m\u001b[0m\u001b[1;33m\u001b[0m\u001b[0m\n\u001b[0;32m    523\u001b[0m             \u001b[1;32mif\u001b[0m \u001b[0mself\u001b[0m\u001b[1;33m.\u001b[0m\u001b[0m_dataset_kind\u001b[0m \u001b[1;33m==\u001b[0m \u001b[0m_DatasetKind\u001b[0m\u001b[1;33m.\u001b[0m\u001b[0mIterable\u001b[0m \u001b[1;32mand\u001b[0m\u001b[0;31m \u001b[0m\u001b[0;31m\\\u001b[0m\u001b[1;33m\u001b[0m\u001b[1;33m\u001b[0m\u001b[0m\n",
      "\u001b[1;32m~\\anaconda3\\lib\\site-packages\\torch\\utils\\data\\dataloader.py\u001b[0m in \u001b[0;36m_next_data\u001b[1;34m(self)\u001b[0m\n\u001b[0;32m    559\u001b[0m     \u001b[1;32mdef\u001b[0m \u001b[0m_next_data\u001b[0m\u001b[1;33m(\u001b[0m\u001b[0mself\u001b[0m\u001b[1;33m)\u001b[0m\u001b[1;33m:\u001b[0m\u001b[1;33m\u001b[0m\u001b[1;33m\u001b[0m\u001b[0m\n\u001b[0;32m    560\u001b[0m         \u001b[0mindex\u001b[0m \u001b[1;33m=\u001b[0m \u001b[0mself\u001b[0m\u001b[1;33m.\u001b[0m\u001b[0m_next_index\u001b[0m\u001b[1;33m(\u001b[0m\u001b[1;33m)\u001b[0m  \u001b[1;31m# may raise StopIteration\u001b[0m\u001b[1;33m\u001b[0m\u001b[1;33m\u001b[0m\u001b[0m\n\u001b[1;32m--> 561\u001b[1;33m         \u001b[0mdata\u001b[0m \u001b[1;33m=\u001b[0m \u001b[0mself\u001b[0m\u001b[1;33m.\u001b[0m\u001b[0m_dataset_fetcher\u001b[0m\u001b[1;33m.\u001b[0m\u001b[0mfetch\u001b[0m\u001b[1;33m(\u001b[0m\u001b[0mindex\u001b[0m\u001b[1;33m)\u001b[0m  \u001b[1;31m# may raise StopIteration\u001b[0m\u001b[1;33m\u001b[0m\u001b[1;33m\u001b[0m\u001b[0m\n\u001b[0m\u001b[0;32m    562\u001b[0m         \u001b[1;32mif\u001b[0m \u001b[0mself\u001b[0m\u001b[1;33m.\u001b[0m\u001b[0m_pin_memory\u001b[0m\u001b[1;33m:\u001b[0m\u001b[1;33m\u001b[0m\u001b[1;33m\u001b[0m\u001b[0m\n\u001b[0;32m    563\u001b[0m             \u001b[0mdata\u001b[0m \u001b[1;33m=\u001b[0m \u001b[0m_utils\u001b[0m\u001b[1;33m.\u001b[0m\u001b[0mpin_memory\u001b[0m\u001b[1;33m.\u001b[0m\u001b[0mpin_memory\u001b[0m\u001b[1;33m(\u001b[0m\u001b[0mdata\u001b[0m\u001b[1;33m)\u001b[0m\u001b[1;33m\u001b[0m\u001b[1;33m\u001b[0m\u001b[0m\n",
      "\u001b[1;32m~\\anaconda3\\lib\\site-packages\\torch\\utils\\data\\_utils\\fetch.py\u001b[0m in \u001b[0;36mfetch\u001b[1;34m(self, possibly_batched_index)\u001b[0m\n\u001b[0;32m     50\u001b[0m         \u001b[1;32melse\u001b[0m\u001b[1;33m:\u001b[0m\u001b[1;33m\u001b[0m\u001b[1;33m\u001b[0m\u001b[0m\n\u001b[0;32m     51\u001b[0m             \u001b[0mdata\u001b[0m \u001b[1;33m=\u001b[0m \u001b[0mself\u001b[0m\u001b[1;33m.\u001b[0m\u001b[0mdataset\u001b[0m\u001b[1;33m[\u001b[0m\u001b[0mpossibly_batched_index\u001b[0m\u001b[1;33m]\u001b[0m\u001b[1;33m\u001b[0m\u001b[1;33m\u001b[0m\u001b[0m\n\u001b[1;32m---> 52\u001b[1;33m         \u001b[1;32mreturn\u001b[0m \u001b[0mself\u001b[0m\u001b[1;33m.\u001b[0m\u001b[0mcollate_fn\u001b[0m\u001b[1;33m(\u001b[0m\u001b[0mdata\u001b[0m\u001b[1;33m)\u001b[0m\u001b[1;33m\u001b[0m\u001b[1;33m\u001b[0m\u001b[0m\n\u001b[0m",
      "\u001b[1;32m~\\anaconda3\\lib\\site-packages\\torch\\utils\\data\\_utils\\collate.py\u001b[0m in \u001b[0;36mdefault_collate\u001b[1;34m(batch)\u001b[0m\n\u001b[0;32m     82\u001b[0m             \u001b[1;32mraise\u001b[0m \u001b[0mRuntimeError\u001b[0m\u001b[1;33m(\u001b[0m\u001b[1;34m'each element in list of batch should be of equal size'\u001b[0m\u001b[1;33m)\u001b[0m\u001b[1;33m\u001b[0m\u001b[1;33m\u001b[0m\u001b[0m\n\u001b[0;32m     83\u001b[0m         \u001b[0mtransposed\u001b[0m \u001b[1;33m=\u001b[0m \u001b[0mzip\u001b[0m\u001b[1;33m(\u001b[0m\u001b[1;33m*\u001b[0m\u001b[0mbatch\u001b[0m\u001b[1;33m)\u001b[0m\u001b[1;33m\u001b[0m\u001b[1;33m\u001b[0m\u001b[0m\n\u001b[1;32m---> 84\u001b[1;33m         \u001b[1;32mreturn\u001b[0m \u001b[1;33m[\u001b[0m\u001b[0mdefault_collate\u001b[0m\u001b[1;33m(\u001b[0m\u001b[0msamples\u001b[0m\u001b[1;33m)\u001b[0m \u001b[1;32mfor\u001b[0m \u001b[0msamples\u001b[0m \u001b[1;32min\u001b[0m \u001b[0mtransposed\u001b[0m\u001b[1;33m]\u001b[0m\u001b[1;33m\u001b[0m\u001b[1;33m\u001b[0m\u001b[0m\n\u001b[0m\u001b[0;32m     85\u001b[0m \u001b[1;33m\u001b[0m\u001b[0m\n\u001b[0;32m     86\u001b[0m     \u001b[1;32mraise\u001b[0m \u001b[0mTypeError\u001b[0m\u001b[1;33m(\u001b[0m\u001b[0mdefault_collate_err_msg_format\u001b[0m\u001b[1;33m.\u001b[0m\u001b[0mformat\u001b[0m\u001b[1;33m(\u001b[0m\u001b[0melem_type\u001b[0m\u001b[1;33m)\u001b[0m\u001b[1;33m)\u001b[0m\u001b[1;33m\u001b[0m\u001b[1;33m\u001b[0m\u001b[0m\n",
      "\u001b[1;32m~\\anaconda3\\lib\\site-packages\\torch\\utils\\data\\_utils\\collate.py\u001b[0m in \u001b[0;36m<listcomp>\u001b[1;34m(.0)\u001b[0m\n\u001b[0;32m     82\u001b[0m             \u001b[1;32mraise\u001b[0m \u001b[0mRuntimeError\u001b[0m\u001b[1;33m(\u001b[0m\u001b[1;34m'each element in list of batch should be of equal size'\u001b[0m\u001b[1;33m)\u001b[0m\u001b[1;33m\u001b[0m\u001b[1;33m\u001b[0m\u001b[0m\n\u001b[0;32m     83\u001b[0m         \u001b[0mtransposed\u001b[0m \u001b[1;33m=\u001b[0m \u001b[0mzip\u001b[0m\u001b[1;33m(\u001b[0m\u001b[1;33m*\u001b[0m\u001b[0mbatch\u001b[0m\u001b[1;33m)\u001b[0m\u001b[1;33m\u001b[0m\u001b[1;33m\u001b[0m\u001b[0m\n\u001b[1;32m---> 84\u001b[1;33m         \u001b[1;32mreturn\u001b[0m \u001b[1;33m[\u001b[0m\u001b[0mdefault_collate\u001b[0m\u001b[1;33m(\u001b[0m\u001b[0msamples\u001b[0m\u001b[1;33m)\u001b[0m \u001b[1;32mfor\u001b[0m \u001b[0msamples\u001b[0m \u001b[1;32min\u001b[0m \u001b[0mtransposed\u001b[0m\u001b[1;33m]\u001b[0m\u001b[1;33m\u001b[0m\u001b[1;33m\u001b[0m\u001b[0m\n\u001b[0m\u001b[0;32m     85\u001b[0m \u001b[1;33m\u001b[0m\u001b[0m\n\u001b[0;32m     86\u001b[0m     \u001b[1;32mraise\u001b[0m \u001b[0mTypeError\u001b[0m\u001b[1;33m(\u001b[0m\u001b[0mdefault_collate_err_msg_format\u001b[0m\u001b[1;33m.\u001b[0m\u001b[0mformat\u001b[0m\u001b[1;33m(\u001b[0m\u001b[0melem_type\u001b[0m\u001b[1;33m)\u001b[0m\u001b[1;33m)\u001b[0m\u001b[1;33m\u001b[0m\u001b[1;33m\u001b[0m\u001b[0m\n",
      "\u001b[1;32m~\\anaconda3\\lib\\site-packages\\torch\\utils\\data\\_utils\\collate.py\u001b[0m in \u001b[0;36mdefault_collate\u001b[1;34m(batch)\u001b[0m\n\u001b[0;32m     54\u001b[0m             \u001b[0mstorage\u001b[0m \u001b[1;33m=\u001b[0m \u001b[0melem\u001b[0m\u001b[1;33m.\u001b[0m\u001b[0mstorage\u001b[0m\u001b[1;33m(\u001b[0m\u001b[1;33m)\u001b[0m\u001b[1;33m.\u001b[0m\u001b[0m_new_shared\u001b[0m\u001b[1;33m(\u001b[0m\u001b[0mnumel\u001b[0m\u001b[1;33m)\u001b[0m\u001b[1;33m\u001b[0m\u001b[1;33m\u001b[0m\u001b[0m\n\u001b[0;32m     55\u001b[0m             \u001b[0mout\u001b[0m \u001b[1;33m=\u001b[0m \u001b[0melem\u001b[0m\u001b[1;33m.\u001b[0m\u001b[0mnew\u001b[0m\u001b[1;33m(\u001b[0m\u001b[0mstorage\u001b[0m\u001b[1;33m)\u001b[0m\u001b[1;33m\u001b[0m\u001b[1;33m\u001b[0m\u001b[0m\n\u001b[1;32m---> 56\u001b[1;33m         \u001b[1;32mreturn\u001b[0m \u001b[0mtorch\u001b[0m\u001b[1;33m.\u001b[0m\u001b[0mstack\u001b[0m\u001b[1;33m(\u001b[0m\u001b[0mbatch\u001b[0m\u001b[1;33m,\u001b[0m \u001b[1;36m0\u001b[0m\u001b[1;33m,\u001b[0m \u001b[0mout\u001b[0m\u001b[1;33m=\u001b[0m\u001b[0mout\u001b[0m\u001b[1;33m)\u001b[0m\u001b[1;33m\u001b[0m\u001b[1;33m\u001b[0m\u001b[0m\n\u001b[0m\u001b[0;32m     57\u001b[0m     \u001b[1;32melif\u001b[0m \u001b[0melem_type\u001b[0m\u001b[1;33m.\u001b[0m\u001b[0m__module__\u001b[0m \u001b[1;33m==\u001b[0m \u001b[1;34m'numpy'\u001b[0m \u001b[1;32mand\u001b[0m \u001b[0melem_type\u001b[0m\u001b[1;33m.\u001b[0m\u001b[0m__name__\u001b[0m \u001b[1;33m!=\u001b[0m \u001b[1;34m'str_'\u001b[0m\u001b[0;31m \u001b[0m\u001b[0;31m\\\u001b[0m\u001b[1;33m\u001b[0m\u001b[1;33m\u001b[0m\u001b[0m\n\u001b[0;32m     58\u001b[0m             \u001b[1;32mand\u001b[0m \u001b[0melem_type\u001b[0m\u001b[1;33m.\u001b[0m\u001b[0m__name__\u001b[0m \u001b[1;33m!=\u001b[0m \u001b[1;34m'string_'\u001b[0m\u001b[1;33m:\u001b[0m\u001b[1;33m\u001b[0m\u001b[1;33m\u001b[0m\u001b[0m\n",
      "\u001b[1;31mRuntimeError\u001b[0m: stack expects each tensor to be equal size, but got [25] at entry 0 and [93] at entry 4"
     ]
    }
   ],
   "source": [
    "for epoch in range(epochs):\n",
    "    \n",
    "    train(train_loader, transformer, criterion, epoch)\n",
    "    \n",
    "#     state = {'epoch': epoch, 'transformer': transformer, 'transformer_optimizer': transformer_optimizer}\n",
    "#     torch.save(state, 'checkpoint_' + str(epoch) + '.pth.tar')"
   ]
  },
  {
   "cell_type": "code",
   "execution_count": 27,
   "id": "6b71fc1a",
   "metadata": {},
   "outputs": [
    {
     "ename": "FileNotFoundError",
     "evalue": "[Errno 2] No such file or directory: 'checkpoint.pth.tar'",
     "output_type": "error",
     "traceback": [
      "\u001b[1;31m---------------------------------------------------------------------------\u001b[0m",
      "\u001b[1;31mFileNotFoundError\u001b[0m                         Traceback (most recent call last)",
      "\u001b[1;32m~\\AppData\\Local\\Temp/ipykernel_608/1142818662.py\u001b[0m in \u001b[0;36m<module>\u001b[1;34m\u001b[0m\n\u001b[1;32m----> 1\u001b[1;33m \u001b[0mcheckpoint\u001b[0m \u001b[1;33m=\u001b[0m \u001b[0mtorch\u001b[0m\u001b[1;33m.\u001b[0m\u001b[0mload\u001b[0m\u001b[1;33m(\u001b[0m\u001b[1;34m'checkpoint.pth.tar'\u001b[0m\u001b[1;33m)\u001b[0m\u001b[1;33m\u001b[0m\u001b[1;33m\u001b[0m\u001b[0m\n\u001b[0m\u001b[0;32m      2\u001b[0m \u001b[0mtransformer\u001b[0m \u001b[1;33m=\u001b[0m \u001b[0mcheckpoint\u001b[0m\u001b[1;33m[\u001b[0m\u001b[1;34m'transformer'\u001b[0m\u001b[1;33m]\u001b[0m\u001b[1;33m\u001b[0m\u001b[1;33m\u001b[0m\u001b[0m\n",
      "\u001b[1;32m~\\anaconda3\\lib\\site-packages\\torch\\serialization.py\u001b[0m in \u001b[0;36mload\u001b[1;34m(f, map_location, pickle_module, **pickle_load_args)\u001b[0m\n\u001b[0;32m    592\u001b[0m         \u001b[0mpickle_load_args\u001b[0m\u001b[1;33m[\u001b[0m\u001b[1;34m'encoding'\u001b[0m\u001b[1;33m]\u001b[0m \u001b[1;33m=\u001b[0m \u001b[1;34m'utf-8'\u001b[0m\u001b[1;33m\u001b[0m\u001b[1;33m\u001b[0m\u001b[0m\n\u001b[0;32m    593\u001b[0m \u001b[1;33m\u001b[0m\u001b[0m\n\u001b[1;32m--> 594\u001b[1;33m     \u001b[1;32mwith\u001b[0m \u001b[0m_open_file_like\u001b[0m\u001b[1;33m(\u001b[0m\u001b[0mf\u001b[0m\u001b[1;33m,\u001b[0m \u001b[1;34m'rb'\u001b[0m\u001b[1;33m)\u001b[0m \u001b[1;32mas\u001b[0m \u001b[0mopened_file\u001b[0m\u001b[1;33m:\u001b[0m\u001b[1;33m\u001b[0m\u001b[1;33m\u001b[0m\u001b[0m\n\u001b[0m\u001b[0;32m    595\u001b[0m         \u001b[1;32mif\u001b[0m \u001b[0m_is_zipfile\u001b[0m\u001b[1;33m(\u001b[0m\u001b[0mopened_file\u001b[0m\u001b[1;33m)\u001b[0m\u001b[1;33m:\u001b[0m\u001b[1;33m\u001b[0m\u001b[1;33m\u001b[0m\u001b[0m\n\u001b[0;32m    596\u001b[0m             \u001b[1;31m# The zipfile reader is going to advance the current file position.\u001b[0m\u001b[1;33m\u001b[0m\u001b[1;33m\u001b[0m\u001b[0m\n",
      "\u001b[1;32m~\\anaconda3\\lib\\site-packages\\torch\\serialization.py\u001b[0m in \u001b[0;36m_open_file_like\u001b[1;34m(name_or_buffer, mode)\u001b[0m\n\u001b[0;32m    228\u001b[0m \u001b[1;32mdef\u001b[0m \u001b[0m_open_file_like\u001b[0m\u001b[1;33m(\u001b[0m\u001b[0mname_or_buffer\u001b[0m\u001b[1;33m,\u001b[0m \u001b[0mmode\u001b[0m\u001b[1;33m)\u001b[0m\u001b[1;33m:\u001b[0m\u001b[1;33m\u001b[0m\u001b[1;33m\u001b[0m\u001b[0m\n\u001b[0;32m    229\u001b[0m     \u001b[1;32mif\u001b[0m \u001b[0m_is_path\u001b[0m\u001b[1;33m(\u001b[0m\u001b[0mname_or_buffer\u001b[0m\u001b[1;33m)\u001b[0m\u001b[1;33m:\u001b[0m\u001b[1;33m\u001b[0m\u001b[1;33m\u001b[0m\u001b[0m\n\u001b[1;32m--> 230\u001b[1;33m         \u001b[1;32mreturn\u001b[0m \u001b[0m_open_file\u001b[0m\u001b[1;33m(\u001b[0m\u001b[0mname_or_buffer\u001b[0m\u001b[1;33m,\u001b[0m \u001b[0mmode\u001b[0m\u001b[1;33m)\u001b[0m\u001b[1;33m\u001b[0m\u001b[1;33m\u001b[0m\u001b[0m\n\u001b[0m\u001b[0;32m    231\u001b[0m     \u001b[1;32melse\u001b[0m\u001b[1;33m:\u001b[0m\u001b[1;33m\u001b[0m\u001b[1;33m\u001b[0m\u001b[0m\n\u001b[0;32m    232\u001b[0m         \u001b[1;32mif\u001b[0m \u001b[1;34m'w'\u001b[0m \u001b[1;32min\u001b[0m \u001b[0mmode\u001b[0m\u001b[1;33m:\u001b[0m\u001b[1;33m\u001b[0m\u001b[1;33m\u001b[0m\u001b[0m\n",
      "\u001b[1;32m~\\anaconda3\\lib\\site-packages\\torch\\serialization.py\u001b[0m in \u001b[0;36m__init__\u001b[1;34m(self, name, mode)\u001b[0m\n\u001b[0;32m    209\u001b[0m \u001b[1;32mclass\u001b[0m \u001b[0m_open_file\u001b[0m\u001b[1;33m(\u001b[0m\u001b[0m_opener\u001b[0m\u001b[1;33m)\u001b[0m\u001b[1;33m:\u001b[0m\u001b[1;33m\u001b[0m\u001b[1;33m\u001b[0m\u001b[0m\n\u001b[0;32m    210\u001b[0m     \u001b[1;32mdef\u001b[0m \u001b[0m__init__\u001b[0m\u001b[1;33m(\u001b[0m\u001b[0mself\u001b[0m\u001b[1;33m,\u001b[0m \u001b[0mname\u001b[0m\u001b[1;33m,\u001b[0m \u001b[0mmode\u001b[0m\u001b[1;33m)\u001b[0m\u001b[1;33m:\u001b[0m\u001b[1;33m\u001b[0m\u001b[1;33m\u001b[0m\u001b[0m\n\u001b[1;32m--> 211\u001b[1;33m         \u001b[0msuper\u001b[0m\u001b[1;33m(\u001b[0m\u001b[0m_open_file\u001b[0m\u001b[1;33m,\u001b[0m \u001b[0mself\u001b[0m\u001b[1;33m)\u001b[0m\u001b[1;33m.\u001b[0m\u001b[0m__init__\u001b[0m\u001b[1;33m(\u001b[0m\u001b[0mopen\u001b[0m\u001b[1;33m(\u001b[0m\u001b[0mname\u001b[0m\u001b[1;33m,\u001b[0m \u001b[0mmode\u001b[0m\u001b[1;33m)\u001b[0m\u001b[1;33m)\u001b[0m\u001b[1;33m\u001b[0m\u001b[1;33m\u001b[0m\u001b[0m\n\u001b[0m\u001b[0;32m    212\u001b[0m \u001b[1;33m\u001b[0m\u001b[0m\n\u001b[0;32m    213\u001b[0m     \u001b[1;32mdef\u001b[0m \u001b[0m__exit__\u001b[0m\u001b[1;33m(\u001b[0m\u001b[0mself\u001b[0m\u001b[1;33m,\u001b[0m \u001b[1;33m*\u001b[0m\u001b[0margs\u001b[0m\u001b[1;33m)\u001b[0m\u001b[1;33m:\u001b[0m\u001b[1;33m\u001b[0m\u001b[1;33m\u001b[0m\u001b[0m\n",
      "\u001b[1;31mFileNotFoundError\u001b[0m: [Errno 2] No such file or directory: 'checkpoint.pth.tar'"
     ]
    }
   ],
   "source": [
    "checkpoint = torch.load('checkpoint.pth.tar')\n",
    "transformer = checkpoint['transformer']"
   ]
  },
  {
   "cell_type": "code",
   "execution_count": null,
   "id": "12e53b27",
   "metadata": {},
   "outputs": [],
   "source": []
  }
 ],
 "metadata": {
  "kernelspec": {
   "display_name": "Python 3 (ipykernel)",
   "language": "python",
   "name": "python3"
  },
  "language_info": {
   "codemirror_mode": {
    "name": "ipython",
    "version": 3
   },
   "file_extension": ".py",
   "mimetype": "text/x-python",
   "name": "python",
   "nbconvert_exporter": "python",
   "pygments_lexer": "ipython3",
   "version": "3.9.7"
  }
 },
 "nbformat": 4,
 "nbformat_minor": 5
}
